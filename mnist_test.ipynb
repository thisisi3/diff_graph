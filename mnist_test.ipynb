{
 "cells": [
  {
   "cell_type": "code",
   "execution_count": 1,
   "metadata": {},
   "outputs": [],
   "source": [
    "import dg\n",
    "import numpy as np\n",
    "import torch\n",
    "import torchvision.transforms as transforms\n",
    "import torchvision\n",
    "import matplotlib.pyplot as plt\n",
    "def imshow(data):\n",
    "    img = data / 2 + 0.5     # unnormalize\n",
    "    npimg = img.numpy()\n",
    "    plt.imshow(npimg.reshape([28,28]), cmap = 'gray')\n",
    "    plt.show()\n",
    "    \n",
    "def label2onehot(labels):\n",
    "    b_size = len(labels)\n",
    "    ret = np.zeros([b_size, 10, 1])\n",
    "    for i, label in enumerate(labels):\n",
    "        ret[i][label] = 1\n",
    "    return ret"
   ]
  },
  {
   "cell_type": "code",
   "execution_count": 2,
   "metadata": {},
   "outputs": [],
   "source": [
    "batch_size = 15\n",
    "num_labels = 10"
   ]
  },
  {
   "cell_type": "code",
   "execution_count": 3,
   "metadata": {},
   "outputs": [],
   "source": [
    "transform = transforms.Compose(\n",
    "    [transforms.ToTensor(),\n",
    "     transforms.Normalize((0.5,), (0.5,))])\n"
   ]
  },
  {
   "cell_type": "code",
   "execution_count": 4,
   "metadata": {
    "scrolled": true
   },
   "outputs": [],
   "source": [
    "trainset = torchvision.datasets.MNIST(root = './data', train = True,\n",
    "                                     download = True, transform=transform)"
   ]
  },
  {
   "cell_type": "code",
   "execution_count": 5,
   "metadata": {},
   "outputs": [],
   "source": [
    "trainloader = torch.utils.data.DataLoader(trainset, batch_size=batch_size,\n",
    "                                          shuffle=True, num_workers=2)"
   ]
  },
  {
   "cell_type": "code",
   "execution_count": 6,
   "metadata": {},
   "outputs": [],
   "source": [
    "testset = torchvision.datasets.MNIST(root='./data', train=False,\n",
    "                                    download=True, transform=transform)"
   ]
  },
  {
   "cell_type": "code",
   "execution_count": 7,
   "metadata": {},
   "outputs": [],
   "source": [
    "testloader = torch.utils.data.DataLoader(testset, batch_size=batch_size,\n",
    "                                         shuffle=False, num_workers=2)"
   ]
  },
  {
   "cell_type": "code",
   "execution_count": null,
   "metadata": {},
   "outputs": [],
   "source": []
  },
  {
   "cell_type": "code",
   "execution_count": 10,
   "metadata": {
    "scrolled": true
   },
   "outputs": [],
   "source": [
    "w1_stdev = 0.1\n",
    "w2_stdev = 0.01\n",
    "\n",
    "x = dg.identity(np.random.randn(batch_size, 784, 1), name = 'x')\n",
    "w_1 = dg.identity(np.random.randn(500, 784) * w1_stdev, name = 'w_1')\n",
    "b_1 = dg.identity(np.random.randn(500, 1) * 1, name = 'b_1')\n",
    "w_2 = dg.identity(np.random.randn(10, 500) * w2_stdev, name = 'w_2')\n",
    "b_2 = dg.identity(np.random.randn(10, 1) * 1, name = 'b_2')\n",
    "y_label = dg.identity(np.random.randn(batch_size, 10, 1), name = 'ylabel')\n",
    "\n",
    "y_1 = dg.mat_add(dg.mat_mul(w_1, x, 'mat_mul_1'), b_1, name = 'y_1')\n",
    "y_1 = dg.sigmoid(y_1, name = 'sigmoid')\n",
    "y_2 = dg.mat_add(dg.mat_mul(w_2, y_1, 'mat_mul_2'), b_2, name = 'y_2')\n",
    "\n",
    "loss = dg.softmax_cross(y_2, y_label, name = 'softmax_loss')\n"
   ]
  },
  {
   "cell_type": "code",
   "execution_count": 13,
   "metadata": {
    "scrolled": false
   },
   "outputs": [
    {
     "name": "stdout",
     "output_type": "stream",
     "text": [
      "Loss after training 1 times: [12.20760686]\n",
      "Loss after training 101 times: [2.38701455]\n",
      "Loss after training 201 times: [2.35296852]\n",
      "Loss after training 301 times: [2.29710349]\n",
      "Loss after training 401 times: [2.4435143]\n",
      "Loss after training 501 times: [2.82936918]\n",
      "Loss after training 601 times: [2.5464516]\n",
      "Loss after training 701 times: [2.21154457]\n",
      "Loss after training 801 times: [2.56770033]\n",
      "Loss after training 901 times: [2.27376907]\n",
      "Loss after training 1001 times: [2.57240702]\n",
      "Loss after training 1101 times: [3.127169]\n",
      "Loss after training 1201 times: [2.38224515]\n",
      "Loss after training 1301 times: [2.46754913]\n",
      "Loss after training 1401 times: [2.5978583]\n",
      "Loss after training 1501 times: [2.49556048]\n",
      "Loss after training 1601 times: [2.500571]\n",
      "Loss after training 1701 times: [2.61402396]\n",
      "Loss after training 1801 times: [2.55650662]\n",
      "Loss after training 1901 times: [2.51251163]\n",
      "Loss after training 2001 times: [2.53256177]\n",
      "Loss after training 2101 times: [2.34243008]\n",
      "Loss after training 2201 times: [2.64572153]\n",
      "Loss after training 2301 times: [2.57596676]\n",
      "Loss after training 2401 times: [2.63921067]\n",
      "Loss after training 2501 times: [2.39034426]\n",
      "Loss after training 2601 times: [2.63953672]\n",
      "Loss after training 2701 times: [2.41460648]\n",
      "Loss after training 2801 times: [2.58669407]\n",
      "Loss after training 2901 times: [2.42402883]\n",
      "Loss after training 3001 times: [2.96449978]\n",
      "Loss after training 3101 times: [2.5294885]\n",
      "Loss after training 3201 times: [2.40322081]\n",
      "Loss after training 3301 times: [2.51149806]\n",
      "Loss after training 3401 times: [2.44068168]\n",
      "Loss after training 3501 times: [2.3990238]\n",
      "Loss after training 3601 times: [2.36694405]\n",
      "Loss after training 3701 times: [2.61748191]\n",
      "Loss after training 3801 times: [2.38975611]\n",
      "Loss after training 3901 times: [2.42347747]\n",
      "Loss after training 1 times: [2.4678474]\n",
      "Loss after training 101 times: [2.59070974]\n",
      "Loss after training 201 times: [2.48050359]\n",
      "Loss after training 301 times: [2.39758445]\n",
      "Loss after training 401 times: [2.66306726]\n",
      "Loss after training 501 times: [2.31298704]\n",
      "Loss after training 601 times: [2.35697209]\n",
      "Loss after training 701 times: [2.54255198]\n",
      "Loss after training 801 times: [2.53729333]\n",
      "Loss after training 901 times: [2.28665981]\n",
      "Loss after training 1001 times: [2.35019217]\n",
      "Loss after training 1101 times: [2.21615714]\n",
      "Loss after training 1201 times: [2.3748399]\n",
      "Loss after training 1301 times: [2.40119563]\n",
      "Loss after training 1401 times: [2.43216663]\n",
      "Loss after training 1501 times: [2.36861254]\n",
      "Loss after training 1601 times: [2.41896971]\n",
      "Loss after training 1701 times: [2.39110695]\n",
      "Loss after training 1801 times: [2.63329956]\n",
      "Loss after training 1901 times: [2.36743758]\n",
      "Loss after training 2001 times: [2.50644639]\n",
      "Loss after training 2101 times: [2.6385231]\n",
      "Loss after training 2201 times: [2.43474906]\n",
      "Loss after training 2301 times: [2.34448055]\n",
      "Loss after training 2401 times: [2.5128829]\n",
      "Loss after training 2501 times: [2.4976188]\n",
      "Loss after training 2601 times: [2.31153186]\n",
      "Loss after training 2701 times: [2.39372696]\n",
      "Loss after training 2801 times: [2.23444559]\n",
      "Loss after training 2901 times: [2.55313834]\n",
      "Loss after training 3001 times: [2.58854561]\n",
      "Loss after training 3101 times: [2.29639868]\n",
      "Loss after training 3201 times: [2.5832962]\n",
      "Loss after training 3301 times: [2.27789411]\n",
      "Loss after training 3401 times: [2.36305589]\n",
      "Loss after training 3501 times: [2.49667253]\n",
      "Loss after training 3601 times: [2.45996166]\n",
      "Loss after training 3701 times: [2.25900888]\n",
      "Loss after training 3801 times: [2.81358351]\n",
      "Loss after training 3901 times: [2.31799382]\n",
      "Loss after training 1 times: [2.2602304]\n",
      "Loss after training 101 times: [2.33589961]\n",
      "Loss after training 201 times: [2.52372734]\n",
      "Loss after training 301 times: [2.36987711]\n",
      "Loss after training 401 times: [2.48458886]\n",
      "Loss after training 501 times: [2.29722137]\n",
      "Loss after training 601 times: [2.49039801]\n",
      "Loss after training 701 times: [2.55287027]\n",
      "Loss after training 801 times: [2.370456]\n",
      "Loss after training 901 times: [2.44126331]\n",
      "Loss after training 1001 times: [3.10165882]\n",
      "Loss after training 1101 times: [2.63244698]\n",
      "Loss after training 1201 times: [2.46324473]\n",
      "Loss after training 1301 times: [2.38830433]\n",
      "Loss after training 1401 times: [2.4331947]\n",
      "Loss after training 1501 times: [2.53999765]\n",
      "Loss after training 1601 times: [2.45868201]\n",
      "Loss after training 1701 times: [2.28765661]\n",
      "Loss after training 1801 times: [2.23848493]\n",
      "Loss after training 1901 times: [2.53848297]\n",
      "Loss after training 2001 times: [2.47258161]\n",
      "Loss after training 2101 times: [2.45264414]\n",
      "Loss after training 2201 times: [2.30432691]\n",
      "Loss after training 2301 times: [2.65635155]\n",
      "Loss after training 2401 times: [2.62182469]\n",
      "Loss after training 2501 times: [2.20070091]\n",
      "Loss after training 2601 times: [2.54885864]\n",
      "Loss after training 2701 times: [2.46769975]\n",
      "Loss after training 2801 times: [2.60400189]\n",
      "Loss after training 2901 times: [2.50838641]\n"
     ]
    },
    {
     "ename": "KeyboardInterrupt",
     "evalue": "",
     "output_type": "error",
     "traceback": [
      "\u001b[0;31m---------------------------------------------------------------------------\u001b[0m",
      "\u001b[0;31mKeyboardInterrupt\u001b[0m                         Traceback (most recent call last)",
      "\u001b[0;32m<ipython-input-13-44856f663425>\u001b[0m in \u001b[0;36m<module>\u001b[0;34m\u001b[0m\n\u001b[1;32m      7\u001b[0m         \u001b[0minputs\u001b[0m \u001b[0;34m=\u001b[0m \u001b[0minputs\u001b[0m\u001b[0;34m.\u001b[0m\u001b[0mreshape\u001b[0m\u001b[0;34m(\u001b[0m\u001b[0;34m[\u001b[0m\u001b[0mbatch_size\u001b[0m\u001b[0;34m,\u001b[0m \u001b[0;36m784\u001b[0m\u001b[0;34m,\u001b[0m \u001b[0;36m1\u001b[0m\u001b[0;34m]\u001b[0m\u001b[0;34m)\u001b[0m\u001b[0;34m.\u001b[0m\u001b[0mnumpy\u001b[0m\u001b[0;34m(\u001b[0m\u001b[0;34m)\u001b[0m\u001b[0;34m\u001b[0m\u001b[0;34m\u001b[0m\u001b[0m\n\u001b[1;32m      8\u001b[0m         \u001b[0mlabels\u001b[0m \u001b[0;34m=\u001b[0m \u001b[0mlabel2onehot\u001b[0m\u001b[0;34m(\u001b[0m\u001b[0mlabels\u001b[0m\u001b[0;34m)\u001b[0m\u001b[0;34m\u001b[0m\u001b[0;34m\u001b[0m\u001b[0m\n\u001b[0;32m----> 9\u001b[0;31m         \u001b[0msgd_optim\u001b[0m\u001b[0;34m.\u001b[0m\u001b[0mstep\u001b[0m\u001b[0;34m(\u001b[0m\u001b[0;34m{\u001b[0m\u001b[0mx\u001b[0m\u001b[0;34m:\u001b[0m\u001b[0minputs\u001b[0m\u001b[0;34m,\u001b[0m \u001b[0my_label\u001b[0m\u001b[0;34m:\u001b[0m\u001b[0mlabels\u001b[0m\u001b[0;34m}\u001b[0m\u001b[0;34m)\u001b[0m\u001b[0;34m\u001b[0m\u001b[0;34m\u001b[0m\u001b[0m\n\u001b[0m\u001b[1;32m     10\u001b[0m         \u001b[0;32mif\u001b[0m \u001b[0mi\u001b[0m \u001b[0;34m%\u001b[0m \u001b[0;36m100\u001b[0m \u001b[0;34m==\u001b[0m \u001b[0;36m0\u001b[0m\u001b[0;34m:\u001b[0m\u001b[0;34m\u001b[0m\u001b[0;34m\u001b[0m\u001b[0m\n\u001b[1;32m     11\u001b[0m             \u001b[0mprint\u001b[0m\u001b[0;34m(\u001b[0m\u001b[0;34m'Loss after training {} times: {}'\u001b[0m\u001b[0;34m.\u001b[0m\u001b[0mformat\u001b[0m\u001b[0;34m(\u001b[0m\u001b[0mi\u001b[0m\u001b[0;34m+\u001b[0m\u001b[0;36m1\u001b[0m\u001b[0;34m,\u001b[0m \u001b[0mloss\u001b[0m\u001b[0;34m.\u001b[0m\u001b[0mdata\u001b[0m\u001b[0;34m(\u001b[0m\u001b[0;34m)\u001b[0m\u001b[0;34m)\u001b[0m\u001b[0;34m)\u001b[0m\u001b[0;34m\u001b[0m\u001b[0;34m\u001b[0m\u001b[0m\n",
      "\u001b[0;32m~/projects/diff_graph/dg/optim.py\u001b[0m in \u001b[0;36mstep\u001b[0;34m(self, feed_dict)\u001b[0m\n\u001b[1;32m     29\u001b[0m         \u001b[0mself\u001b[0m\u001b[0;34m.\u001b[0m\u001b[0mloss\u001b[0m\u001b[0;34m.\u001b[0m\u001b[0mset_grad_one\u001b[0m\u001b[0;34m(\u001b[0m\u001b[0;34m)\u001b[0m\u001b[0;34m\u001b[0m\u001b[0;34m\u001b[0m\u001b[0m\n\u001b[1;32m     30\u001b[0m         \u001b[0;32mfor\u001b[0m \u001b[0mn\u001b[0m \u001b[0;32min\u001b[0m \u001b[0mcore\u001b[0m\u001b[0;34m.\u001b[0m\u001b[0mbackward_iter\u001b[0m\u001b[0;34m(\u001b[0m\u001b[0mself\u001b[0m\u001b[0;34m.\u001b[0m\u001b[0mloss\u001b[0m\u001b[0;34m)\u001b[0m\u001b[0;34m:\u001b[0m\u001b[0;34m\u001b[0m\u001b[0;34m\u001b[0m\u001b[0m\n\u001b[0;32m---> 31\u001b[0;31m             \u001b[0mn\u001b[0m\u001b[0;34m.\u001b[0m\u001b[0mbackward\u001b[0m\u001b[0;34m(\u001b[0m\u001b[0;34m)\u001b[0m\u001b[0;34m\u001b[0m\u001b[0;34m\u001b[0m\u001b[0m\n\u001b[0m\u001b[1;32m     32\u001b[0m         \u001b[0mself\u001b[0m\u001b[0;34m.\u001b[0m\u001b[0mupdate_trainable\u001b[0m\u001b[0;34m(\u001b[0m\u001b[0;34m)\u001b[0m\u001b[0;34m\u001b[0m\u001b[0;34m\u001b[0m\u001b[0m\n\u001b[1;32m     33\u001b[0m \u001b[0;34m\u001b[0m\u001b[0m\n",
      "\u001b[0;32m~/projects/diff_graph/dg/op.py\u001b[0m in \u001b[0;36mbackward\u001b[0;34m(self)\u001b[0m\n\u001b[1;32m    252\u001b[0m \u001b[0;34m\u001b[0m\u001b[0m\n\u001b[1;32m    253\u001b[0m     \u001b[0;32mdef\u001b[0m \u001b[0mbackward\u001b[0m\u001b[0;34m(\u001b[0m\u001b[0mself\u001b[0m\u001b[0;34m)\u001b[0m\u001b[0;34m:\u001b[0m\u001b[0;34m\u001b[0m\u001b[0;34m\u001b[0m\u001b[0m\n\u001b[0;32m--> 254\u001b[0;31m         \u001b[0mself\u001b[0m\u001b[0;34m.\u001b[0m\u001b[0mop\u001b[0m\u001b[0;34m.\u001b[0m\u001b[0mbackward\u001b[0m\u001b[0;34m(\u001b[0m\u001b[0;34m)\u001b[0m\u001b[0;34m\u001b[0m\u001b[0;34m\u001b[0m\u001b[0m\n\u001b[0m\u001b[1;32m    255\u001b[0m \u001b[0;34m\u001b[0m\u001b[0m\n\u001b[1;32m    256\u001b[0m     \u001b[0;32mdef\u001b[0m \u001b[0mtensor\u001b[0m\u001b[0;34m(\u001b[0m\u001b[0mself\u001b[0m\u001b[0;34m)\u001b[0m\u001b[0;34m:\u001b[0m\u001b[0;34m\u001b[0m\u001b[0;34m\u001b[0m\u001b[0m\n",
      "\u001b[0;32m~/projects/diff_graph/dg/op.py\u001b[0m in \u001b[0;36mbackward\u001b[0;34m(self)\u001b[0m\n\u001b[1;32m     79\u001b[0m             \u001b[0mt_shape\u001b[0m \u001b[0;34m=\u001b[0m \u001b[0mself\u001b[0m\u001b[0;34m.\u001b[0m\u001b[0mt_shape\u001b[0m\u001b[0;34m(\u001b[0m\u001b[0mself\u001b[0m\u001b[0;34m.\u001b[0m\u001b[0mb_op\u001b[0m\u001b[0;34m.\u001b[0m\u001b[0moutput\u001b[0m\u001b[0;34m.\u001b[0m\u001b[0mdata\u001b[0m\u001b[0;34m.\u001b[0m\u001b[0mshape\u001b[0m\u001b[0;34m)\u001b[0m\u001b[0;34m\u001b[0m\u001b[0;34m\u001b[0m\u001b[0m\n\u001b[1;32m     80\u001b[0m             \u001b[0mself\u001b[0m\u001b[0;34m.\u001b[0m\u001b[0ma_op\u001b[0m\u001b[0;34m.\u001b[0m\u001b[0moutput\u001b[0m\u001b[0;34m.\u001b[0m\u001b[0mgrad\u001b[0m\u001b[0;31m \u001b[0m\u001b[0;31m\\\u001b[0m\u001b[0;34m\u001b[0m\u001b[0;34m\u001b[0m\u001b[0m\n\u001b[0;32m---> 81\u001b[0;31m                 \u001b[0;34m+=\u001b[0m \u001b[0mnp\u001b[0m\u001b[0;34m.\u001b[0m\u001b[0msum\u001b[0m\u001b[0;34m(\u001b[0m\u001b[0mnp\u001b[0m\u001b[0;34m.\u001b[0m\u001b[0mmatmul\u001b[0m\u001b[0;34m(\u001b[0m\u001b[0mout_grad\u001b[0m\u001b[0;34m,\u001b[0m \u001b[0mnp\u001b[0m\u001b[0;34m.\u001b[0m\u001b[0mtranspose\u001b[0m\u001b[0;34m(\u001b[0m\u001b[0mself\u001b[0m\u001b[0;34m.\u001b[0m\u001b[0mb_op\u001b[0m\u001b[0;34m.\u001b[0m\u001b[0moutput\u001b[0m\u001b[0;34m.\u001b[0m\u001b[0mdata\u001b[0m\u001b[0;34m,\u001b[0m \u001b[0mt_shape\u001b[0m\u001b[0;34m)\u001b[0m\u001b[0;34m)\u001b[0m\u001b[0;34m,\u001b[0m \u001b[0;36m0\u001b[0m\u001b[0;34m)\u001b[0m\u001b[0;34m\u001b[0m\u001b[0;34m\u001b[0m\u001b[0m\n\u001b[0m\u001b[1;32m     82\u001b[0m             \u001b[0mself\u001b[0m\u001b[0;34m.\u001b[0m\u001b[0mb_op\u001b[0m\u001b[0;34m.\u001b[0m\u001b[0moutput\u001b[0m\u001b[0;34m.\u001b[0m\u001b[0mgrad\u001b[0m\u001b[0;31m \u001b[0m\u001b[0;31m\\\u001b[0m\u001b[0;34m\u001b[0m\u001b[0;34m\u001b[0m\u001b[0m\n\u001b[1;32m     83\u001b[0m                 \u001b[0;34m+=\u001b[0m \u001b[0mnp\u001b[0m\u001b[0;34m.\u001b[0m\u001b[0mmatmul\u001b[0m\u001b[0;34m(\u001b[0m\u001b[0mnp\u001b[0m\u001b[0;34m.\u001b[0m\u001b[0mtranspose\u001b[0m\u001b[0;34m(\u001b[0m\u001b[0mself\u001b[0m\u001b[0;34m.\u001b[0m\u001b[0ma_op\u001b[0m\u001b[0;34m.\u001b[0m\u001b[0moutput\u001b[0m\u001b[0;34m.\u001b[0m\u001b[0mdata\u001b[0m\u001b[0;34m)\u001b[0m\u001b[0;34m,\u001b[0m \u001b[0mout_grad\u001b[0m\u001b[0;34m)\u001b[0m\u001b[0;34m\u001b[0m\u001b[0;34m\u001b[0m\u001b[0m\n",
      "\u001b[0;31mKeyboardInterrupt\u001b[0m: "
     ]
    },
    {
     "name": "stderr",
     "output_type": "stream",
     "text": [
      "Traceback (most recent call last):\n",
      "  File \"/home/liyiqing/anaconda3/lib/python3.7/multiprocessing/queues.py\", line 242, in _feed\n",
      "    send_bytes(obj)\n",
      "  File \"/home/liyiqing/anaconda3/lib/python3.7/multiprocessing/connection.py\", line 200, in send_bytes\n",
      "    self._send_bytes(m[offset:offset + size])\n",
      "  File \"/home/liyiqing/anaconda3/lib/python3.7/multiprocessing/connection.py\", line 404, in _send_bytes\n",
      "    self._send(header + buf)\n",
      "  File \"/home/liyiqing/anaconda3/lib/python3.7/multiprocessing/connection.py\", line 368, in _send\n",
      "    n = write(self._handle, buf)\n",
      "BrokenPipeError: [Errno 32] Broken pipe\n",
      "Traceback (most recent call last):\n",
      "  File \"/home/liyiqing/anaconda3/lib/python3.7/multiprocessing/queues.py\", line 242, in _feed\n",
      "    send_bytes(obj)\n",
      "  File \"/home/liyiqing/anaconda3/lib/python3.7/multiprocessing/connection.py\", line 200, in send_bytes\n",
      "    self._send_bytes(m[offset:offset + size])\n",
      "  File \"/home/liyiqing/anaconda3/lib/python3.7/multiprocessing/connection.py\", line 404, in _send_bytes\n",
      "    self._send(header + buf)\n",
      "  File \"/home/liyiqing/anaconda3/lib/python3.7/multiprocessing/connection.py\", line 368, in _send\n",
      "    n = write(self._handle, buf)\n",
      "BrokenPipeError: [Errno 32] Broken pipe\n"
     ]
    }
   ],
   "source": [
    "lr = 0.001\n",
    "sgd_optim = dg.optim.SGD(loss, [w_1, w_2, b_1, b_2], lr)\n",
    "epoch = 5\n",
    "for ep in range(epoch):\n",
    "    for i, data in enumerate(trainloader):\n",
    "        inputs, labels = data\n",
    "        inputs = inputs.reshape([batch_size, 784, 1]).numpy()\n",
    "        labels = label2onehot(labels)\n",
    "        sgd_optim.step({x:inputs, y_label:labels})\n",
    "        if i % 100 == 0:\n",
    "            print('Loss after training {} times: {}'.format(i+1, loss.data()))"
   ]
  },
  {
   "cell_type": "code",
   "execution_count": null,
   "metadata": {},
   "outputs": [],
   "source": []
  }
 ],
 "metadata": {
  "kernelspec": {
   "display_name": "Python 3",
   "language": "python",
   "name": "python3"
  },
  "language_info": {
   "codemirror_mode": {
    "name": "ipython",
    "version": 3
   },
   "file_extension": ".py",
   "mimetype": "text/x-python",
   "name": "python",
   "nbconvert_exporter": "python",
   "pygments_lexer": "ipython3",
   "version": "3.7.3"
  }
 },
 "nbformat": 4,
 "nbformat_minor": 2
}
