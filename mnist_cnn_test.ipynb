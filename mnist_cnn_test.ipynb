{
 "cells": [
  {
   "cell_type": "code",
   "execution_count": 1,
   "metadata": {},
   "outputs": [
    {
     "data": {
      "text/plain": [
       "'\\nHere use self developed covolutional neural\\n'"
      ]
     },
     "execution_count": 1,
     "metadata": {},
     "output_type": "execute_result"
    }
   ],
   "source": [
    "import dg\n",
    "import numpy as np\n",
    "import torch\n",
    "import torchvision.transforms as transforms\n",
    "import torchvision\n",
    "import matplotlib.pyplot as plt\n",
    "import time\n",
    "\n",
    "'''\n",
    "Here use self developed covolutional neural\n",
    "'''"
   ]
  },
  {
   "cell_type": "code",
   "execution_count": 2,
   "metadata": {},
   "outputs": [],
   "source": [
    "# here data is a PyTorch tensor\n",
    "def imshow(data):\n",
    "    img = data / 2 + 0.5     # unnormalize\n",
    "    npimg = img.numpy()\n",
    "    plt.imshow(npimg.reshape([28,28]), cmap = 'gray')\n",
    "    plt.show()\n",
    "\n",
    "def label2onehot(labels):\n",
    "    b_size = len(labels)\n",
    "    ret = np.zeros([b_size, 10, 1])\n",
    "    for i, label in enumerate(labels):\n",
    "        ret[i][label] = 1\n",
    "    return ret\n",
    "def calc_acc(out, label):\n",
    "    out_tsr   = out.reshape(out.shape[:2])\n",
    "    label_tsr = label.reshape(label.shape[:2])\n",
    "    argmax_out = np.argmax(out_tsr, 1)\n",
    "    argmax_label = np.argmax(label_tsr, 1)\n",
    "    eq = (argmax_out == argmax_label)\n",
    "    num_corr = np.count_nonzero(eq)\n",
    "    return num_corr / len(out_tsr)"
   ]
  },
  {
   "cell_type": "code",
   "execution_count": 3,
   "metadata": {},
   "outputs": [],
   "source": [
    "# define batch size and data loaders, including train data and test data loaders\n",
    "batch_size = 25\n",
    "num_labels = 10\n",
    "\n",
    "transform = transforms.Compose(\n",
    "    [transforms.ToTensor(),\n",
    "    transforms.Normalize((0.5,), (0.5,))])\n",
    "\n",
    "trainset = torchvision.datasets.MNIST(root = './data', train = True,\n",
    "                                      download = True, transform = transform)\n",
    "trainloader = torch.utils.data.DataLoader(trainset, batch_size = batch_size,\n",
    "                                          shuffle = True, num_workers = 2)\n",
    "testset = torchvision.datasets.MNIST(root='./data', train = False,\n",
    "                                     download=True, transform = transform)\n",
    "testloader = torch.utils.data.DataLoader(testset, batch_size = batch_size,\n",
    "                                         shuffle = False, num_workers = 2)\n"
   ]
  },
  {
   "cell_type": "code",
   "execution_count": 4,
   "metadata": {},
   "outputs": [
    {
     "name": "stdout",
     "output_type": "stream",
     "text": [
      "data from PyTorch data loaders:\n",
      "x_data[0].type: <class 'torch.Tensor'>\n",
      "torch.Size([1, 28, 28])\n",
      "y_data[0].type: <class 'torch.Tensor'>\n",
      "torch.Size([])\n"
     ]
    },
    {
     "data": {
      "image/png": "[encoded data removed]",
      "text/plain": [
       "<Figure size 432x288 with 1 Axes>"
      ]
     },
     "metadata": {
      "needs_background": "light"
     },
     "output_type": "display_data"
    },
    {
     "name": "stdout",
     "output_type": "stream",
     "text": [
      "label: tensor(2)\n"
     ]
    },
    {
     "data": {
      "image/png": "[encoded data removed]",
      "text/plain": [
       "<Figure size 432x288 with 1 Axes>"
      ]
     },
     "metadata": {
      "needs_background": "light"
     },
     "output_type": "display_data"
    },
    {
     "name": "stdout",
     "output_type": "stream",
     "text": [
      "label: tensor(0)\n"
     ]
    }
   ],
   "source": [
    "# first take a look at some of the test pictures\n",
    "train_iter = iter(trainloader)\n",
    "x_data, y_data = train_iter.next()\n",
    "print('data from PyTorch data loaders:')\n",
    "print('x_data[0].type:', type(x_data[0]))\n",
    "print(x_data[0].shape)\n",
    "print('y_data[0].type:', type(y_data[0]))\n",
    "print(y_data[0].shape)\n",
    "for i in range(2):\n",
    "    imshow(x_data[i])\n",
    "    print('label:', y_data[i])"
   ]
  },
  {
   "cell_type": "code",
   "execution_count": 5,
   "metadata": {},
   "outputs": [],
   "source": [
    "class Net:\n",
    "    def __init__(self):\n",
    "        pass\n",
    "    \n",
    "    def one_conv_layer(self):\n",
    "        print('Creating one conv layer CNN...')\n",
    "        x_entry = x_data.numpy().reshape([batch_size, 28, 28, 1])\n",
    "        y_entry = label2onehot(y_data).reshape([batch_size, num_labels, 1])\n",
    "        print('Input image shape:', x_entry.shape)\n",
    "        print('Y label shape:', y_entry.shape)\n",
    "        print()\n",
    "        img_in = dg.identity(x_entry)\n",
    "        y_label = dg.identity(y_entry)\n",
    "        conv = dg.cnn.conv(img_in, 5, 6)\n",
    "        print('added conv layer with filter size: {}, num_filter: {}, stride: {}, padding: {}, out shape: {}'\\\n",
    "              .format(conv.op.filter_size, conv.op.num_filter, conv.op.stride, conv.op.padding, conv.shape()))\n",
    "        relu = dg.relu(conv)\n",
    "        print('added relu, shape:', relu.shape())\n",
    "        pool = dg.cnn.max_pool(relu, 3, stride = 3)\n",
    "        print('added pool with filter size: {}, stride: {}, padding: {}, out shape: {}'\\\n",
    "              .format(pool.op.filter_size, pool.op.stride, pool.op.padding, pool.shape()))\n",
    "        fl = dg.reshape(pool, (batch_size, 384, 1))\n",
    "        print('added reshaped layer, the new shape: ', fl.shape())\n",
    "        w = dg.identity(np.random.randn(10, 384))\n",
    "        b = dg.identity(np.random.randn(10, 1))\n",
    "        print('created parameters w with shape {} and b with shape {}'.format(w.shape(), b.shape()))\n",
    "        print('w shape:', w.shape())\n",
    "        fc = dg.mat_mul(w, fl)\n",
    "        print('added fully connect layer with shape: {}'.format(fc.shape()))\n",
    "        out = dg.mat_add(fc, b)\n",
    "        print('added bias to give logits output with shape: {}'.format(out.shape()))\n",
    "        loss = dg.softmax_cross(out, y_label)\n",
    "        print('added cross entropy with softmax loss with shape: {}'.format(loss.shape()))\n",
    "        return loss, out, img_in, y_label, [w,b] + conv.op.params()\n",
    "    \n",
    "    def two_conv_layer(self):\n",
    "        print('Creating two conv layer CNN...')\n",
    "        x_entry = x_data.numpy().reshape([batch_size, 28, 28, 1])\n",
    "        y_entry = label2onehot(y_data).reshape([batch_size, num_labels, 1])\n",
    "        print('Input image shape:', x_entry.shape)\n",
    "        print('Y label shape:', y_entry.shape)\n",
    "        print()\n",
    "        img_in = dg.identity(x_entry)\n",
    "        y_label = dg.identity(y_entry)\n",
    "        conv = dg.cnn.conv(img_in, 5, 6)\n",
    "        print('added conv layer with filter size: {}, num_filter: {}, stride: {}, padding: {}, out shape: {}'\\\n",
    "              .format(conv.op.filter_size, conv.op.num_filter, conv.op.stride, conv.op.padding, conv.shape()))\n",
    "        relu = dg.relu(conv)\n",
    "        print('added relu, shape:', relu.shape())\n",
    "        conv2 = dg.cnn.conv(relu, 5, 12)\n",
    "        print('added conv layer with filter size: {}, num_filter: {}, stride: {}, padding: {}, out shape: {}'\\\n",
    "             .format(conv2.op.filter_size, conv2.op.num_filter, conv2.op.stride, conv2.op.padding, conv2.shape()))\n",
    "        relu2 = dg.relu(conv2)\n",
    "        pool = dg.cnn.max_pool(relu2, 5, stride = 3)\n",
    "        print('added pool with filter size: {}, stride: {}, padding: {}, out shape: {}'\\\n",
    "              .format(pool.op.filter_size, pool.op.stride, pool.op.padding, pool.shape()))\n",
    "        fl = dg.reshape(pool, (batch_size, 432, 1))\n",
    "        print('added reshaped layer, the new shape: ', fl.shape())\n",
    "        w = dg.identity(np.random.randn(10, 432))\n",
    "        b = dg.identity(np.random.randn(10, 1))\n",
    "        print('created parameters w with shape {} and b with shape {}'.format(w.shape(), b.shape()))\n",
    "        print('w shape:', w.shape())\n",
    "        fc = dg.mat_mul(w, fl)\n",
    "        print('added fully connect layer with shape: {}'.format(fc.shape()))\n",
    "        out = dg.mat_add(fc, b)\n",
    "        print('added bias to give logits output with shape: {}'.format(out.shape()))\n",
    "        loss = dg.softmax_cross(out, y_label)\n",
    "        print('added cross entropy with softmax loss with shape: {}'.format(loss.shape()))\n",
    "        return loss, out, img_in, y_label, [w,b] + conv.op.params()\n",
    "        pass"
   ]
  },
  {
   "cell_type": "code",
   "execution_count": 6,
   "metadata": {},
   "outputs": [
    {
     "name": "stdout",
     "output_type": "stream",
     "text": [
      "Creating one conv layer CNN...\n",
      "Input image shape: (25, 28, 28, 1)\n",
      "Y label shape: (25, 10, 1)\n",
      "\n",
      "added conv layer with filter size: (5, 5), num_filter: 6, stride: (1, 1), padding: (0, 0), out shape: (25, 24, 24, 6)\n",
      "added relu, shape: (25, 24, 24, 6)\n",
      "added pool with filter size: (3, 3), stride: (3, 3), padding: (0, 0), out shape: (25, 8, 8, 6)\n",
      "added reshaped layer, the new shape:  (25, 384, 1)\n",
      "created parameters w with shape (10, 384) and b with shape (10, 1)\n",
      "w shape: (10, 384)\n",
      "added fully connect layer with shape: (25, 10, 1)\n",
      "added bias to give logits output with shape: (25, 10, 1)\n",
      "added cross entropy with softmax loss with shape: (1,)\n"
     ]
    }
   ],
   "source": [
    "net = Net()\n",
    "loss, out, x_img, y_label, trainables = net.one_conv_layer()"
   ]
  },
  {
   "cell_type": "code",
   "execution_count": null,
   "metadata": {},
   "outputs": [],
   "source": []
  },
  {
   "cell_type": "code",
   "execution_count": 9,
   "metadata": {
    "scrolled": false
   },
   "outputs": [
    {
     "name": "stdout",
     "output_type": "stream",
     "text": [
      "Loss after training 1 batches with batch size 25: [3.09048429]\n",
      "Accuracy: 0.8\n",
      "Loss after training 101 batches with batch size 25: [1.53012284]\n",
      "Accuracy: 0.92\n",
      "Loss after training 201 batches with batch size 25: [4.26565363]\n",
      "Accuracy: 0.76\n",
      "Loss after training 301 batches with batch size 25: [0.15377387]\n",
      "Accuracy: 0.96\n",
      "Loss after training 401 batches with batch size 25: [2.91129161]\n",
      "Accuracy: 0.8\n",
      "Loss after training 501 batches with batch size 25: [2.3262606]\n",
      "Accuracy: 0.88\n",
      "Loss after training 601 batches with batch size 25: [0.79851772]\n",
      "Accuracy: 0.96\n",
      "Loss after training 701 batches with batch size 25: [0.6354612]\n",
      "Accuracy: 0.92\n",
      "Loss after training 801 batches with batch size 25: [3.00969612]\n",
      "Accuracy: 0.92\n",
      "Loss after training 901 batches with batch size 25: [5.11040749]\n",
      "Accuracy: 0.84\n",
      "Loss after training 1001 batches with batch size 25: [1.19893493]\n",
      "Accuracy: 0.84\n",
      "Loss after training 1101 batches with batch size 25: [2.244793]\n",
      "Accuracy: 0.84\n",
      "Loss after training 1201 batches with batch size 25: [1.47354921]\n",
      "Accuracy: 0.88\n",
      "Loss after training 1301 batches with batch size 25: [2.60093423]\n",
      "Accuracy: 0.8\n",
      "Loss after training 1401 batches with batch size 25: [0.99131269]\n",
      "Accuracy: 0.88\n",
      "Loss after training 1501 batches with batch size 25: [1.90478023]\n",
      "Accuracy: 0.8\n",
      "Loss after training 1601 batches with batch size 25: [2.48357607]\n",
      "Accuracy: 0.72\n",
      "Loss after training 1701 batches with batch size 25: [0.54050249]\n",
      "Accuracy: 0.92\n",
      "Loss after training 1801 batches with batch size 25: [0.58082448]\n",
      "Accuracy: 0.88\n",
      "Loss after training 1901 batches with batch size 25: [0.62883378]\n",
      "Accuracy: 0.88\n",
      "Loss after training 2001 batches with batch size 25: [1.49902219]\n",
      "Accuracy: 0.92\n",
      "Loss after training 2101 batches with batch size 25: [2.14948828]\n",
      "Accuracy: 0.84\n",
      "Loss after training 2201 batches with batch size 25: [0.00992516]\n",
      "Accuracy: 1.0\n",
      "Loss after training 2301 batches with batch size 25: [1.64873379]\n",
      "Accuracy: 0.92\n",
      "Finished training 1 epoches and it cost 1011.779378414154 seconds or 16.86 minutes.\n"
     ]
    }
   ],
   "source": [
    "# finally, train the built CNN\n",
    "lr = 0.0001\n",
    "sgd_optim = dg.optim.SGD(loss, trainables, lr)\n",
    "epoch = 1\n",
    "start = time.time()\n",
    "for e in range(epoch):\n",
    "    train_iter = iter(trainloader)\n",
    "    for i, train_data in enumerate(train_iter):\n",
    "        x_train = train_data[0].numpy().reshape([batch_size, 28, 28, 1])\n",
    "        y_train = label2onehot(train_data[1]).reshape([batch_size, num_labels, 1])\n",
    "        sgd_optim.step({x_img:x_train, y_label:y_train})\n",
    "        if i % 100 == 0:\n",
    "            print('Loss after training {} batches with batch size {}: {}'.format(i + 1, batch_size, loss.data()))\n",
    "            print('Accuracy:', calc_acc(out.data(), y_label.data()))\n",
    "end = time.time()\n",
    "time_peri = end - start\n",
    "print('Finished training {} epoches and it cost {} seconds or {} minutes.'.format(epoch, time_peri, round(time_peri / 60, 2)))"
   ]
  },
  {
   "cell_type": "code",
   "execution_count": null,
   "metadata": {},
   "outputs": [],
   "source": []
  },
  {
   "cell_type": "code",
   "execution_count": null,
   "metadata": {},
   "outputs": [],
   "source": []
  },
  {
   "cell_type": "code",
   "execution_count": null,
   "metadata": {},
   "outputs": [],
   "source": []
  },
  {
   "cell_type": "code",
   "execution_count": null,
   "metadata": {},
   "outputs": [],
   "source": []
  },
  {
   "cell_type": "code",
   "execution_count": null,
   "metadata": {},
   "outputs": [],
   "source": []
  },
  {
   "cell_type": "code",
   "execution_count": null,
   "metadata": {},
   "outputs": [],
   "source": []
  },
  {
   "cell_type": "code",
   "execution_count": null,
   "metadata": {},
   "outputs": [],
   "source": []
  },
  {
   "cell_type": "code",
   "execution_count": null,
   "metadata": {},
   "outputs": [],
   "source": []
  },
  {
   "cell_type": "code",
   "execution_count": null,
   "metadata": {},
   "outputs": [],
   "source": []
  },
  {
   "cell_type": "code",
   "execution_count": null,
   "metadata": {},
   "outputs": [],
   "source": []
  },
  {
   "cell_type": "code",
   "execution_count": null,
   "metadata": {},
   "outputs": [],
   "source": []
  },
  {
   "cell_type": "code",
   "execution_count": null,
   "metadata": {},
   "outputs": [],
   "source": []
  },
  {
   "cell_type": "code",
   "execution_count": null,
   "metadata": {},
   "outputs": [],
   "source": []
  },
  {
   "cell_type": "code",
   "execution_count": null,
   "metadata": {},
   "outputs": [],
   "source": []
  },
  {
   "cell_type": "code",
   "execution_count": null,
   "metadata": {},
   "outputs": [],
   "source": []
  },
  {
   "cell_type": "code",
   "execution_count": null,
   "metadata": {},
   "outputs": [],
   "source": []
  }
 ],
 "metadata": {
  "kernelspec": {
   "display_name": "Python 3",
   "language": "python",
   "name": "python3"
  },
  "language_info": {
   "codemirror_mode": {
    "name": "ipython",
    "version": 3
   },
   "file_extension": ".py",
   "mimetype": "text/x-python",
   "name": "python",
   "nbconvert_exporter": "python",
   "pygments_lexer": "ipython3",
   "version": "3.7.3"
  }
 },
 "nbformat": 4,
 "nbformat_minor": 2
}
