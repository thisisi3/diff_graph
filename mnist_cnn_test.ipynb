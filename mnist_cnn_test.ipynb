{
 "cells": [
  {
   "cell_type": "code",
   "execution_count": 1,
   "metadata": {},
   "outputs": [
    {
     "data": {
      "text/plain": [
       "'\\nHere use self developed covolutional neural\\n'"
      ]
     },
     "execution_count": 1,
     "metadata": {},
     "output_type": "execute_result"
    }
   ],
   "source": [
    "import dg\n",
    "import numpy as np\n",
    "import torch\n",
    "import torchvision.transforms as transforms\n",
    "import torchvision\n",
    "import matplotlib.pyplot as plt\n",
    "\n",
    "\n",
    "'''\n",
    "Here use self developed covolutional neural\n",
    "'''"
   ]
  },
  {
   "cell_type": "code",
   "execution_count": 2,
   "metadata": {},
   "outputs": [],
   "source": [
    "# here data is a PyTorch tensor\n",
    "def imshow(data):\n",
    "    img = data / 2 + 0.5     # unnormalize\n",
    "    npimg = img.numpy()\n",
    "    plt.imshow(npimg.reshape([28,28]), cmap = 'gray')\n",
    "    plt.show()\n",
    "\n",
    "def label2onehot(labels):\n",
    "    b_size = len(labels)\n",
    "    ret = np.zeros([b_size, 10, 1])\n",
    "    for i, label in enumerate(labels):\n",
    "        ret[i][label] = 1\n",
    "    return ret\n"
   ]
  },
  {
   "cell_type": "code",
   "execution_count": 3,
   "metadata": {},
   "outputs": [],
   "source": [
    "# define batch size and data loaders, including train data and test data loaders\n",
    "batch_size = 15\n",
    "num_labels = 10\n",
    "\n",
    "transform = transforms.Compose(\n",
    "    [transforms.ToTensor(),\n",
    "    transforms.Normalize((0.5,), (0.5,))])\n",
    "\n",
    "trainset = torchvision.datasets.MNIST(root = './data', train = True,\n",
    "                                      download = True, transform = transform)\n",
    "trainloader = torch.utils.data.DataLoader(trainset, batch_size = batch_size,\n",
    "                                          shuffle = True, num_workers = 2)\n",
    "testset = torchvision.datasets.MNIST(root='./data', train = False,\n",
    "                                     download=True, transform = transform)\n",
    "testloader = torch.utils.data.DataLoader(testset, batch_size = batch_size,\n",
    "                                         shuffle = False, num_workers = 2)\n"
   ]
  },
  {
   "cell_type": "code",
   "execution_count": 4,
   "metadata": {},
   "outputs": [
    {
     "name": "stdout",
     "output_type": "stream",
     "text": [
      "data from PyTorch data loaders:\n",
      "x_data[0].type: <class 'torch.Tensor'>\n",
      "torch.Size([1, 28, 28])\n",
      "y_data[0].type: <class 'torch.Tensor'>\n",
      "torch.Size([])\n"
     ]
    },
    {
     "data": {
      "image/png": "[encoded data removed]",
      "text/plain": [
       "<Figure size 432x288 with 1 Axes>"
      ]
     },
     "metadata": {
      "needs_background": "light"
     },
     "output_type": "display_data"
    },
    {
     "name": "stdout",
     "output_type": "stream",
     "text": [
      "label: tensor(2)\n"
     ]
    },
    {
     "data": {
      "image/png": "[encoded data removed]",
      "text/plain": [
       "<Figure size 432x288 with 1 Axes>"
      ]
     },
     "metadata": {
      "needs_background": "light"
     },
     "output_type": "display_data"
    },
    {
     "name": "stdout",
     "output_type": "stream",
     "text": [
      "label: tensor(7)\n"
     ]
    }
   ],
   "source": [
    "# first take a look at some of the test pictures\n",
    "train_iter = iter(trainloader)\n",
    "x_data, y_data = train_iter.next()\n",
    "print('data from PyTorch data loaders:')\n",
    "print('x_data[0].type:', type(x_data[0]))\n",
    "print(x_data[0].shape)\n",
    "print('y_data[0].type:', type(y_data[0]))\n",
    "print(y_data[0].shape)\n",
    "for i in range(2):\n",
    "    imshow(x_data[i])\n",
    "    print('label:', y_data[i])"
   ]
  },
  {
   "cell_type": "code",
   "execution_count": 6,
   "metadata": {},
   "outputs": [
    {
     "name": "stdout",
     "output_type": "stream",
     "text": [
      "Input image shape: (15, 28, 28, 1)\n",
      "Y label shape: (15, 10, 1)\n",
      "\n",
      "added conv layer with filter size: (3, 3), num_filters: 6, stride: (1, 1), padding: (0, 0), out shape: (15, 26, 26, 6)\n",
      "added relu, shape: (15, 26, 26, 6)\n",
      "added pool with filter size: (3, 3), stride: (1, 1), padding: (0, 0), out shape: (15, 24, 24, 6)\n",
      "added reshaped layer, the new shape:  (15, 3456, 1)\n",
      "created parameters w with shape (10, 3456) and b with shape (10, 1)\n",
      "w shape: (10, 3456)\n",
      "added fully connect layer with shape: (15, 10, 1)\n",
      "added bias to give logits output with shape: (15, 10, 1)\n",
      "added cross entropy with softmax loss with shape: (1,)\n"
     ]
    }
   ],
   "source": [
    "# next to build a CNN\n",
    "\n",
    "x_entry = x_data.numpy().reshape([batch_size, 28, 28, 1])\n",
    "y_entry = label2onehot(y_data).reshape([batch_size, num_labels, 1])\n",
    "print('Input image shape:', x_entry.shape)\n",
    "print('Y label shape:', y_entry.shape)\n",
    "print()\n",
    "img_in = dg.identity(x_entry)\n",
    "y_label = dg.identity(y_entry)\n",
    "conv = dg.cnn.conv(img_in, 3, 6)\n",
    "print('added conv layer with filter size: {}, num_filters: {}, stride: {}, padding: {}, out shape: {}'\\\n",
    "      .format(conv.op.filter_size, conv.op.num_filter, conv.op.stride, conv.op.padding, conv.shape()))\n",
    "relu = dg.relu(conv)\n",
    "print('added relu, shape:', relu.shape())\n",
    "pool = dg.cnn.max_pool(relu, 3, stride = 1)\n",
    "print('added pool with filter size: {}, stride: {}, padding: {}, out shape: {}'\\\n",
    "      .format(pool.op.filter_size, pool.op.stride, pool.op.padding, pool.shape()))\n",
    "fl = dg.reshape(pool, (15, 3456, 1))\n",
    "print('added reshaped layer, the new shape: ', fl.shape())\n",
    "w = dg.identity(np.random.randn(10, 3456))\n",
    "b = dg.identity(np.random.randn(10, 1))\n",
    "print('created parameters w with shape {} and b with shape {}'.format(w.shape(), b.shape()))\n",
    "print('w shape:', w.shape())\n",
    "fc = dg.mat_mul(w, fl)\n",
    "print('added fully connect layer with shape: {}'.format(fc.shape()))\n",
    "out = dg.mat_add(fc, b)\n",
    "print('added bias to give logits output with shape: {}'.format(out.shape()))\n",
    "loss = dg.softmax_cross(out, y_label)\n",
    "print('added cross entropy with softmax loss with shape: {}'.format(loss.shape()))"
   ]
  },
  {
   "cell_type": "code",
   "execution_count": null,
   "metadata": {},
   "outputs": [
    {
     "name": "stdout",
     "output_type": "stream",
     "text": [
      "Loss after training 1 times: [1.90826556e-08]\n",
      "Loss after training 101 times: [2.45125319]\n",
      "Loss after training 201 times: [3.26835404e-10]\n",
      "Loss after training 301 times: [3.08387888]\n",
      "Loss after training 401 times: [0.18308377]\n",
      "Loss after training 501 times: [1.7261993e-06]\n",
      "Loss after training 601 times: [3.55736801]\n",
      "Loss after training 701 times: [4.36754723]\n",
      "Loss after training 801 times: [1.48951064]\n",
      "Loss after training 901 times: [4.21888397e-05]\n",
      "Loss after training 1001 times: [2.62096314]\n",
      "Loss after training 1101 times: [4.3297406]\n",
      "Loss after training 1201 times: [0.55282082]\n",
      "Loss after training 1301 times: [0.46819581]\n",
      "Loss after training 1401 times: [2.03097946]\n",
      "Loss after training 1501 times: [2.10946373]\n",
      "Loss after training 1601 times: [4.43528773]\n",
      "Loss after training 1701 times: [5.4902711]\n",
      "Loss after training 1801 times: [0.47962231]\n",
      "Loss after training 1901 times: [2.07015435e-08]\n",
      "Loss after training 2001 times: [3.61612006]\n",
      "Loss after training 2101 times: [3.91170145]\n",
      "Loss after training 2201 times: [1.45287471e-08]\n",
      "Loss after training 2301 times: [2.38843325e-05]\n",
      "Loss after training 2401 times: [7.39621465]\n",
      "Loss after training 2501 times: [3.1736162]\n",
      "Loss after training 2601 times: [1.10473726]\n",
      "Loss after training 2701 times: [2.72730185]\n",
      "Loss after training 2801 times: [7.54505936]\n",
      "Loss after training 2901 times: [4.78842548]\n"
     ]
    }
   ],
   "source": [
    "# finally, train the built CNN\n",
    "lr = 0.0001\n",
    "sgd_optim = dg.optim.SGD(loss, [w, b] + conv.op.params(), lr)\n",
    "epoch = 1\n",
    "train_iter = iter(trainloader)\n",
    "for i, train_data in enumerate(train_iter):\n",
    "    x_train = train_data[0].numpy().reshape([batch_size, 28, 28, 1])\n",
    "    y_train = label2onehot(train_data[1]).reshape([batch_size, num_labels, 1])\n",
    "    sgd_optim.step({img_in:x_train, y_label:y_train})\n",
    "    if i % 100 == 0:\n",
    "        print('Loss after training {} times: {}'.format(i+1, loss.data()))\n",
    "    "
   ]
  },
  {
   "cell_type": "code",
   "execution_count": null,
   "metadata": {},
   "outputs": [],
   "source": []
  },
  {
   "cell_type": "code",
   "execution_count": null,
   "metadata": {},
   "outputs": [],
   "source": []
  },
  {
   "cell_type": "code",
   "execution_count": null,
   "metadata": {},
   "outputs": [],
   "source": []
  },
  {
   "cell_type": "code",
   "execution_count": null,
   "metadata": {},
   "outputs": [],
   "source": []
  },
  {
   "cell_type": "code",
   "execution_count": null,
   "metadata": {},
   "outputs": [],
   "source": []
  },
  {
   "cell_type": "code",
   "execution_count": null,
   "metadata": {},
   "outputs": [],
   "source": []
  },
  {
   "cell_type": "code",
   "execution_count": null,
   "metadata": {},
   "outputs": [],
   "source": []
  },
  {
   "cell_type": "code",
   "execution_count": null,
   "metadata": {},
   "outputs": [],
   "source": []
  },
  {
   "cell_type": "code",
   "execution_count": null,
   "metadata": {},
   "outputs": [],
   "source": []
  },
  {
   "cell_type": "code",
   "execution_count": null,
   "metadata": {},
   "outputs": [],
   "source": []
  },
  {
   "cell_type": "code",
   "execution_count": null,
   "metadata": {},
   "outputs": [],
   "source": []
  },
  {
   "cell_type": "code",
   "execution_count": null,
   "metadata": {},
   "outputs": [],
   "source": []
  },
  {
   "cell_type": "code",
   "execution_count": null,
   "metadata": {},
   "outputs": [],
   "source": []
  },
  {
   "cell_type": "code",
   "execution_count": null,
   "metadata": {},
   "outputs": [],
   "source": []
  },
  {
   "cell_type": "code",
   "execution_count": null,
   "metadata": {},
   "outputs": [],
   "source": []
  },
  {
   "cell_type": "code",
   "execution_count": null,
   "metadata": {},
   "outputs": [],
   "source": []
  }
 ],
 "metadata": {
  "kernelspec": {
   "display_name": "Python 3",
   "language": "python",
   "name": "python3"
  },
  "language_info": {
   "codemirror_mode": {
    "name": "ipython",
    "version": 3
   },
   "file_extension": ".py",
   "mimetype": "text/x-python",
   "name": "python",
   "nbconvert_exporter": "python",
   "pygments_lexer": "ipython3",
   "version": "3.7.3"
  }
 },
 "nbformat": 4,
 "nbformat_minor": 2
}
