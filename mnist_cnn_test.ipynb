{
 "cells": [
  {
   "cell_type": "code",
   "execution_count": 1,
   "metadata": {},
   "outputs": [
    {
     "data": {
      "text/plain": [
       "'\\nHere use self developed covolutional neural\\n'"
      ]
     },
     "execution_count": 1,
     "metadata": {},
     "output_type": "execute_result"
    }
   ],
   "source": [
    "import dg\n",
    "import numpy as np\n",
    "import torch\n",
    "import torchvision.transforms as transforms\n",
    "import torchvision\n",
    "import matplotlib.pyplot as plt\n",
    "\n",
    "\n",
    "'''\n",
    "Here use self developed covolutional neural\n",
    "'''"
   ]
  },
  {
   "cell_type": "code",
   "execution_count": 2,
   "metadata": {},
   "outputs": [],
   "source": [
    "# here data is a PyTorch tensor\n",
    "def imshow(data):\n",
    "    img = data / 2 + 0.5     # unnormalize\n",
    "    npimg = img.numpy()\n",
    "    plt.imshow(npimg.reshape([28,28]), cmap = 'gray')\n",
    "    plt.show()\n",
    "\n",
    "def label2onehot(labels):\n",
    "    b_size = len(labels)\n",
    "    ret = np.zeros([b_size, 10, 1])\n",
    "    for i, label in enumerate(labels):\n",
    "        ret[i][label] = 1\n",
    "    return ret\n"
   ]
  },
  {
   "cell_type": "code",
   "execution_count": 3,
   "metadata": {},
   "outputs": [],
   "source": [
    "# define batch size and data loaders, including train data and test data loaders\n",
    "batch_size = 15\n",
    "num_labels = 10\n",
    "\n",
    "transform = transforms.Compose(\n",
    "    [transforms.ToTensor(),\n",
    "    transforms.Normalize((0.5,), (0.5,))])\n",
    "\n",
    "trainset = torchvision.datasets.MNIST(root = './data', train = True,\n",
    "                                      download = True, transform = transform)\n",
    "trainloader = torch.utils.data.DataLoader(trainset, batch_size = batch_size,\n",
    "                                          shuffle = True, num_workers = 2)\n",
    "testset = torchvision.datasets.MNIST(root='./data', train = False,\n",
    "                                     download=True, transform = transform)\n",
    "testloader = torch.utils.data.DataLoader(testset, batch_size = batch_size,\n",
    "                                         shuffle = False, num_workers = 2)\n"
   ]
  },
  {
   "cell_type": "code",
   "execution_count": 4,
   "metadata": {},
   "outputs": [
    {
     "name": "stdout",
     "output_type": "stream",
     "text": [
      "data from PyTorch data loaders:\n",
      "x_data[0].type: <class 'torch.Tensor'>\n",
      "torch.Size([1, 28, 28])\n",
      "y_data[0].type: <class 'torch.Tensor'>\n",
      "torch.Size([])\n"
     ]
    },
    {
     "data": {
      "image/png": "[encoded data removed]",
      "text/plain": [
       "<Figure size 432x288 with 1 Axes>"
      ]
     },
     "metadata": {
      "needs_background": "light"
     },
     "output_type": "display_data"
    },
    {
     "name": "stdout",
     "output_type": "stream",
     "text": [
      "label: tensor(6)\n"
     ]
    },
    {
     "data": {
      "image/png": "[encoded data removed]",
      "text/plain": [
       "<Figure size 432x288 with 1 Axes>"
      ]
     },
     "metadata": {
      "needs_background": "light"
     },
     "output_type": "display_data"
    },
    {
     "name": "stdout",
     "output_type": "stream",
     "text": [
      "label: tensor(3)\n"
     ]
    }
   ],
   "source": [
    "# first take a look at some of the test pictures\n",
    "train_iter = iter(trainloader)\n",
    "x_data, y_data = train_iter.next()\n",
    "print('data from PyTorch data loaders:')\n",
    "print('x_data[0].type:', type(x_data[0]))\n",
    "print(x_data[0].shape)\n",
    "print('y_data[0].type:', type(y_data[0]))\n",
    "print(y_data[0].shape)\n",
    "for i in range(2):\n",
    "    imshow(x_data[i])\n",
    "    print('label:', y_data[i])"
   ]
  },
  {
   "cell_type": "code",
   "execution_count": 29,
   "metadata": {},
   "outputs": [],
   "source": [
    "class Net:\n",
    "    def __init__(self):\n",
    "        pass\n",
    "    \n",
    "    def one_conv_layer(self):\n",
    "        print('Creating one conv layer CNN...')\n",
    "        x_entry = x_data.numpy().reshape([batch_size, 28, 28, 1])\n",
    "        y_entry = label2onehot(y_data).reshape([batch_size, num_labels, 1])\n",
    "        print('Input image shape:', x_entry.shape)\n",
    "        print('Y label shape:', y_entry.shape)\n",
    "        print()\n",
    "        img_in = dg.identity(x_entry)\n",
    "        y_label = dg.identity(y_entry)\n",
    "        conv = dg.cnn.conv(img_in, 5, 6)\n",
    "        print('added conv layer with filter size: {}, num_filter: {}, stride: {}, padding: {}, out shape: {}'\\\n",
    "              .format(conv.op.filter_size, conv.op.num_filter, conv.op.stride, conv.op.padding, conv.shape()))\n",
    "        relu = dg.relu(conv)\n",
    "        print('added relu, shape:', relu.shape())\n",
    "        pool = dg.cnn.max_pool(relu, 3, stride = 3)\n",
    "        print('added pool with filter size: {}, stride: {}, padding: {}, out shape: {}'\\\n",
    "              .format(pool.op.filter_size, pool.op.stride, pool.op.padding, pool.shape()))\n",
    "        fl = dg.reshape(pool, (15, 384, 1))\n",
    "        print('added reshaped layer, the new shape: ', fl.shape())\n",
    "        w = dg.identity(np.random.randn(10, 384))\n",
    "        b = dg.identity(np.random.randn(10, 1))\n",
    "        print('created parameters w with shape {} and b with shape {}'.format(w.shape(), b.shape()))\n",
    "        print('w shape:', w.shape())\n",
    "        fc = dg.mat_mul(w, fl)\n",
    "        print('added fully connect layer with shape: {}'.format(fc.shape()))\n",
    "        out = dg.mat_add(fc, b)\n",
    "        print('added bias to give logits output with shape: {}'.format(out.shape()))\n",
    "        loss = dg.softmax_cross(out, y_label)\n",
    "        print('added cross entropy with softmax loss with shape: {}'.format(loss.shape()))\n",
    "        return loss, img_in, y_label, [w,b] + conv.op.params()\n",
    "    \n",
    "    def two_conv_layer(self):\n",
    "        print('Creating two conv layer CNN...')\n",
    "        x_entry = x_data.numpy().reshape([batch_size, 28, 28, 1])\n",
    "        y_entry = label2onehot(y_data).reshape([batch_size, num_labels, 1])\n",
    "        print('Input image shape:', x_entry.shape)\n",
    "        print('Y label shape:', y_entry.shape)\n",
    "        print()\n",
    "        img_in = dg.identity(x_entry)\n",
    "        y_label = dg.identity(y_entry)\n",
    "        conv = dg.cnn.conv(img_in, 5, 6)\n",
    "        print('added conv layer with filter size: {}, num_filter: {}, stride: {}, padding: {}, out shape: {}'\\\n",
    "              .format(conv.op.filter_size, conv.op.num_filter, conv.op.stride, conv.op.padding, conv.shape()))\n",
    "        relu = dg.relu(conv)\n",
    "        print('added relu, shape:', relu.shape())\n",
    "        conv2 = dg.cnn.conv(relu, 5, 12)\n",
    "        print('added conv layer with filter size: {}, num_filter: {}, stride: {}, padding: {}, out shape: {}'\\\n",
    "             .format(conv2.op.filter_size, conv2.op.num_filter, conv2.op.stride, conv2.op.padding, conv2.shape()))\n",
    "        relu2 = dg.relu(conv2)\n",
    "        pool = dg.cnn.max_pool(relu2, 5, stride = 3)\n",
    "        print('added pool with filter size: {}, stride: {}, padding: {}, out shape: {}'\\\n",
    "              .format(pool.op.filter_size, pool.op.stride, pool.op.padding, pool.shape()))\n",
    "        fl = dg.reshape(pool, (15, 432, 1))\n",
    "        print('added reshaped layer, the new shape: ', fl.shape())\n",
    "        w = dg.identity(np.random.randn(10, 432))\n",
    "        b = dg.identity(np.random.randn(10, 1))\n",
    "        print('created parameters w with shape {} and b with shape {}'.format(w.shape(), b.shape()))\n",
    "        print('w shape:', w.shape())\n",
    "        fc = dg.mat_mul(w, fl)\n",
    "        print('added fully connect layer with shape: {}'.format(fc.shape()))\n",
    "        out = dg.mat_add(fc, b)\n",
    "        print('added bias to give logits output with shape: {}'.format(out.shape()))\n",
    "        loss = dg.softmax_cross(out, y_label)\n",
    "        print('added cross entropy with softmax loss with shape: {}'.format(loss.shape()))\n",
    "        return loss, img_in, y_label, [w,b] + conv.op.params()\n",
    "        pass"
   ]
  },
  {
   "cell_type": "code",
   "execution_count": 32,
   "metadata": {},
   "outputs": [
    {
     "name": "stdout",
     "output_type": "stream",
     "text": [
      "Creating one conv layer CNN...\n",
      "Input image shape: (15, 28, 28, 1)\n",
      "Y label shape: (15, 10, 1)\n",
      "\n",
      "added conv layer with filter size: (5, 5), num_filter: 6, stride: (1, 1), padding: (0, 0), out shape: (15, 24, 24, 6)\n",
      "added relu, shape: (15, 24, 24, 6)\n",
      "added pool with filter size: (3, 3), stride: (3, 3), padding: (0, 0), out shape: (15, 8, 8, 6)\n",
      "added reshaped layer, the new shape:  (15, 384, 1)\n",
      "created parameters w with shape (10, 384) and b with shape (10, 1)\n",
      "w shape: (10, 384)\n",
      "added fully connect layer with shape: (15, 10, 1)\n",
      "added bias to give logits output with shape: (15, 10, 1)\n",
      "added cross entropy with softmax loss with shape: (1,)\n"
     ]
    }
   ],
   "source": [
    "net = Net()\n",
    "loss, x_img, y_label, trainables = net.one_conv_layer()"
   ]
  },
  {
   "cell_type": "code",
   "execution_count": null,
   "metadata": {},
   "outputs": [],
   "source": []
  },
  {
   "cell_type": "code",
   "execution_count": 35,
   "metadata": {
    "scrolled": false
   },
   "outputs": [
    {
     "name": "stdout",
     "output_type": "stream",
     "text": [
      "Loss after training 1 batches with batch size 15: [1.36115872]\n",
      "Loss after training 101 batches with batch size 15: [0.05301763]\n",
      "Loss after training 201 batches with batch size 15: [2.18053452]\n",
      "Loss after training 301 batches with batch size 15: [2.19789896]\n",
      "Loss after training 401 batches with batch size 15: [4.31479067]\n",
      "Loss after training 501 batches with batch size 15: [2.14546778]\n",
      "Loss after training 601 batches with batch size 15: [1.78343428e-05]\n",
      "Loss after training 701 batches with batch size 15: [0.46227051]\n",
      "Loss after training 801 batches with batch size 15: [0.04927866]\n",
      "Loss after training 901 batches with batch size 15: [0.74072878]\n",
      "Loss after training 1001 batches with batch size 15: [1.54511095]\n",
      "Loss after training 1101 batches with batch size 15: [0.94687105]\n",
      "Loss after training 1201 batches with batch size 15: [1.24724511]\n",
      "Loss after training 1301 batches with batch size 15: [0.27496843]\n",
      "Loss after training 1401 batches with batch size 15: [1.12484472]\n",
      "Loss after training 1501 batches with batch size 15: [1.5480637]\n",
      "Loss after training 1601 batches with batch size 15: [1.56707644]\n",
      "Loss after training 1701 batches with batch size 15: [0.43211486]\n",
      "Loss after training 1801 batches with batch size 15: [1.85718675]\n",
      "Loss after training 1901 batches with batch size 15: [5.36524887]\n",
      "Loss after training 2001 batches with batch size 15: [2.38232679]\n",
      "Loss after training 2101 batches with batch size 15: [2.83149838]\n",
      "Loss after training 2201 batches with batch size 15: [1.87577138]\n",
      "Loss after training 2301 batches with batch size 15: [6.29319609e-07]\n",
      "Loss after training 2401 batches with batch size 15: [0.01503536]\n",
      "Loss after training 2501 batches with batch size 15: [0.14161006]\n",
      "Loss after training 2601 batches with batch size 15: [0.21088539]\n",
      "Loss after training 2701 batches with batch size 15: [1.45548578]\n",
      "Loss after training 2801 batches with batch size 15: [0.52367058]\n",
      "Loss after training 2901 batches with batch size 15: [4.4124572]\n",
      "Loss after training 3001 batches with batch size 15: [1.94216501]\n",
      "Loss after training 3101 batches with batch size 15: [3.66116112]\n",
      "Loss after training 3201 batches with batch size 15: [3.67259114]\n",
      "Loss after training 3301 batches with batch size 15: [0.04562711]\n",
      "Loss after training 3401 batches with batch size 15: [1.87878156]\n",
      "Loss after training 3501 batches with batch size 15: [1.03365907]\n",
      "Loss after training 3601 batches with batch size 15: [2.1433863e-06]\n",
      "Loss after training 3701 batches with batch size 15: [0.11669236]\n",
      "Loss after training 3801 batches with batch size 15: [1.35587311]\n",
      "Loss after training 3901 batches with batch size 15: [2.93792966]\n",
      "Loss after training 1 batches with batch size 15: [0.6868108]\n",
      "Loss after training 101 batches with batch size 15: [3.31167409]\n",
      "Loss after training 201 batches with batch size 15: [0.91112267]\n",
      "Loss after training 301 batches with batch size 15: [1.95551882]\n",
      "Loss after training 401 batches with batch size 15: [3.19499251]\n",
      "Loss after training 501 batches with batch size 15: [2.48046026]\n",
      "Loss after training 601 batches with batch size 15: [2.29988873]\n",
      "Loss after training 701 batches with batch size 15: [1.20214258]\n",
      "Loss after training 801 batches with batch size 15: [0.02781385]\n",
      "Loss after training 901 batches with batch size 15: [0.78161855]\n",
      "Loss after training 1001 batches with batch size 15: [0.67819983]\n",
      "Loss after training 1101 batches with batch size 15: [1.41334395]\n",
      "Loss after training 1201 batches with batch size 15: [0.55345151]\n",
      "Loss after training 1301 batches with batch size 15: [1.46963571]\n",
      "Loss after training 1401 batches with batch size 15: [4.16458103]\n",
      "Loss after training 1501 batches with batch size 15: [1.57034205]\n",
      "Loss after training 1601 batches with batch size 15: [1.49944957]\n",
      "Loss after training 1701 batches with batch size 15: [0.75875096]\n",
      "Loss after training 1801 batches with batch size 15: [0.00139455]\n",
      "Loss after training 1901 batches with batch size 15: [1.99868067]\n",
      "Loss after training 2001 batches with batch size 15: [0.53551387]\n",
      "Loss after training 2101 batches with batch size 15: [2.36224391]\n",
      "Loss after training 2201 batches with batch size 15: [0.51590471]\n",
      "Loss after training 2301 batches with batch size 15: [2.0924718]\n",
      "Loss after training 2401 batches with batch size 15: [1.27188358]\n",
      "Loss after training 2501 batches with batch size 15: [0.7266468]\n",
      "Loss after training 2601 batches with batch size 15: [0.83546498]\n",
      "Loss after training 2701 batches with batch size 15: [1.4184115]\n",
      "Loss after training 2801 batches with batch size 15: [0.35336653]\n",
      "Loss after training 2901 batches with batch size 15: [2.97038498e-05]\n",
      "Loss after training 3001 batches with batch size 15: [2.86773585]\n",
      "Loss after training 3101 batches with batch size 15: [0.58523415]\n",
      "Loss after training 3201 batches with batch size 15: [1.26908112]\n",
      "Loss after training 3301 batches with batch size 15: [4.6357551]\n",
      "Loss after training 3401 batches with batch size 15: [0.9541951]\n",
      "Loss after training 3501 batches with batch size 15: [0.00017664]\n",
      "Loss after training 3601 batches with batch size 15: [0.4939689]\n",
      "Loss after training 3701 batches with batch size 15: [3.16636009]\n",
      "Loss after training 3801 batches with batch size 15: [1.1675255]\n",
      "Loss after training 3901 batches with batch size 15: [3.2413807]\n",
      "Loss after training 1 batches with batch size 15: [0.11966024]\n",
      "Loss after training 101 batches with batch size 15: [1.7578425]\n",
      "Loss after training 201 batches with batch size 15: [0.46284051]\n",
      "Loss after training 301 batches with batch size 15: [2.21717805]\n",
      "Loss after training 401 batches with batch size 15: [1.28287915]\n",
      "Loss after training 501 batches with batch size 15: [0.62683308]\n",
      "Loss after training 601 batches with batch size 15: [0.00406215]\n",
      "Loss after training 701 batches with batch size 15: [1.65583698]\n",
      "Loss after training 801 batches with batch size 15: [1.59332382]\n",
      "Loss after training 901 batches with batch size 15: [0.00323919]\n",
      "Loss after training 1001 batches with batch size 15: [0.28152955]\n",
      "Loss after training 1101 batches with batch size 15: [0.78304716]\n",
      "Loss after training 1201 batches with batch size 15: [0.85371949]\n",
      "Loss after training 1301 batches with batch size 15: [0.00011596]\n",
      "Loss after training 1401 batches with batch size 15: [0.55660874]\n",
      "Loss after training 1501 batches with batch size 15: [1.54240549e-05]\n",
      "Loss after training 1601 batches with batch size 15: [1.42893215]\n",
      "Loss after training 1701 batches with batch size 15: [0.01382095]\n",
      "Loss after training 1801 batches with batch size 15: [1.55690343]\n",
      "Loss after training 1901 batches with batch size 15: [0.27023285]\n",
      "Loss after training 2001 batches with batch size 15: [1.47695689]\n",
      "Loss after training 2101 batches with batch size 15: [1.18136548]\n",
      "Loss after training 2201 batches with batch size 15: [2.69403958]\n",
      "Loss after training 2301 batches with batch size 15: [4.44780078]\n",
      "Loss after training 2401 batches with batch size 15: [1.27854186]\n",
      "Loss after training 2501 batches with batch size 15: [4.17237062e-05]\n",
      "Loss after training 2601 batches with batch size 15: [0.29880847]\n",
      "Loss after training 2701 batches with batch size 15: [2.47691458]\n",
      "Loss after training 2801 batches with batch size 15: [1.80513329]\n",
      "Loss after training 2901 batches with batch size 15: [0.00663194]\n",
      "Loss after training 3001 batches with batch size 15: [1.56071505]\n",
      "Loss after training 3101 batches with batch size 15: [0.09375164]\n",
      "Loss after training 3201 batches with batch size 15: [1.17376132]\n",
      "Loss after training 3301 batches with batch size 15: [0.12982194]\n"
     ]
    },
    {
     "ename": "KeyboardInterrupt",
     "evalue": "",
     "output_type": "error",
     "traceback": [
      "\u001b[0;31m---------------------------------------------------------------------------\u001b[0m",
      "\u001b[0;31mKeyboardInterrupt\u001b[0m                         Traceback (most recent call last)",
      "\u001b[0;32m<ipython-input-35-1db9dc86c813>\u001b[0m in \u001b[0;36m<module>\u001b[0;34m\u001b[0m\n\u001b[1;32m      8\u001b[0m         \u001b[0mx_train\u001b[0m \u001b[0;34m=\u001b[0m \u001b[0mtrain_data\u001b[0m\u001b[0;34m[\u001b[0m\u001b[0;36m0\u001b[0m\u001b[0;34m]\u001b[0m\u001b[0;34m.\u001b[0m\u001b[0mnumpy\u001b[0m\u001b[0;34m(\u001b[0m\u001b[0;34m)\u001b[0m\u001b[0;34m.\u001b[0m\u001b[0mreshape\u001b[0m\u001b[0;34m(\u001b[0m\u001b[0;34m[\u001b[0m\u001b[0mbatch_size\u001b[0m\u001b[0;34m,\u001b[0m \u001b[0;36m28\u001b[0m\u001b[0;34m,\u001b[0m \u001b[0;36m28\u001b[0m\u001b[0;34m,\u001b[0m \u001b[0;36m1\u001b[0m\u001b[0;34m]\u001b[0m\u001b[0;34m)\u001b[0m\u001b[0;34m\u001b[0m\u001b[0;34m\u001b[0m\u001b[0m\n\u001b[1;32m      9\u001b[0m         \u001b[0my_train\u001b[0m \u001b[0;34m=\u001b[0m \u001b[0mlabel2onehot\u001b[0m\u001b[0;34m(\u001b[0m\u001b[0mtrain_data\u001b[0m\u001b[0;34m[\u001b[0m\u001b[0;36m1\u001b[0m\u001b[0;34m]\u001b[0m\u001b[0;34m)\u001b[0m\u001b[0;34m.\u001b[0m\u001b[0mreshape\u001b[0m\u001b[0;34m(\u001b[0m\u001b[0;34m[\u001b[0m\u001b[0mbatch_size\u001b[0m\u001b[0;34m,\u001b[0m \u001b[0mnum_labels\u001b[0m\u001b[0;34m,\u001b[0m \u001b[0;36m1\u001b[0m\u001b[0;34m]\u001b[0m\u001b[0;34m)\u001b[0m\u001b[0;34m\u001b[0m\u001b[0;34m\u001b[0m\u001b[0m\n\u001b[0;32m---> 10\u001b[0;31m         \u001b[0msgd_optim\u001b[0m\u001b[0;34m.\u001b[0m\u001b[0mstep\u001b[0m\u001b[0;34m(\u001b[0m\u001b[0;34m{\u001b[0m\u001b[0mx_img\u001b[0m\u001b[0;34m:\u001b[0m\u001b[0mx_train\u001b[0m\u001b[0;34m,\u001b[0m \u001b[0my_label\u001b[0m\u001b[0;34m:\u001b[0m\u001b[0my_train\u001b[0m\u001b[0;34m}\u001b[0m\u001b[0;34m)\u001b[0m\u001b[0;34m\u001b[0m\u001b[0;34m\u001b[0m\u001b[0m\n\u001b[0m\u001b[1;32m     11\u001b[0m         \u001b[0;32mif\u001b[0m \u001b[0mi\u001b[0m \u001b[0;34m%\u001b[0m \u001b[0;36m100\u001b[0m \u001b[0;34m==\u001b[0m \u001b[0;36m0\u001b[0m\u001b[0;34m:\u001b[0m\u001b[0;34m\u001b[0m\u001b[0;34m\u001b[0m\u001b[0m\n\u001b[1;32m     12\u001b[0m             \u001b[0mprint\u001b[0m\u001b[0;34m(\u001b[0m\u001b[0;34m'Loss after training {} batches with batch size {}: {}'\u001b[0m\u001b[0;34m.\u001b[0m\u001b[0mformat\u001b[0m\u001b[0;34m(\u001b[0m\u001b[0mi\u001b[0m \u001b[0;34m+\u001b[0m \u001b[0;36m1\u001b[0m\u001b[0;34m,\u001b[0m \u001b[0mbatch_size\u001b[0m\u001b[0;34m,\u001b[0m \u001b[0mloss\u001b[0m\u001b[0;34m.\u001b[0m\u001b[0mdata\u001b[0m\u001b[0;34m(\u001b[0m\u001b[0;34m)\u001b[0m\u001b[0;34m)\u001b[0m\u001b[0;34m)\u001b[0m\u001b[0;34m\u001b[0m\u001b[0;34m\u001b[0m\u001b[0m\n",
      "\u001b[0;32m~/projects/diff_graph/dg/optim.py\u001b[0m in \u001b[0;36mstep\u001b[0;34m(self, feed_dict)\u001b[0m\n\u001b[1;32m     24\u001b[0m     \u001b[0;32mdef\u001b[0m \u001b[0mstep\u001b[0m\u001b[0;34m(\u001b[0m\u001b[0mself\u001b[0m\u001b[0;34m,\u001b[0m \u001b[0mfeed_dict\u001b[0m \u001b[0;34m=\u001b[0m \u001b[0;34m{\u001b[0m\u001b[0;34m}\u001b[0m\u001b[0;34m)\u001b[0m\u001b[0;34m:\u001b[0m\u001b[0;34m\u001b[0m\u001b[0;34m\u001b[0m\u001b[0m\n\u001b[1;32m     25\u001b[0m         \u001b[0mcore\u001b[0m\u001b[0;34m.\u001b[0m\u001b[0mforward_pass\u001b[0m\u001b[0;34m(\u001b[0m\u001b[0mself\u001b[0m\u001b[0;34m.\u001b[0m\u001b[0mloss\u001b[0m\u001b[0;34m,\u001b[0m \u001b[0mfeed_dict\u001b[0m\u001b[0;34m,\u001b[0m \u001b[0mclear_grad\u001b[0m \u001b[0;34m=\u001b[0m \u001b[0;32mTrue\u001b[0m\u001b[0;34m)\u001b[0m\u001b[0;34m\u001b[0m\u001b[0;34m\u001b[0m\u001b[0m\n\u001b[0;32m---> 26\u001b[0;31m         \u001b[0mcore\u001b[0m\u001b[0;34m.\u001b[0m\u001b[0mbackward_pass\u001b[0m\u001b[0;34m(\u001b[0m\u001b[0mself\u001b[0m\u001b[0;34m.\u001b[0m\u001b[0mloss\u001b[0m\u001b[0;34m)\u001b[0m\u001b[0;34m\u001b[0m\u001b[0;34m\u001b[0m\u001b[0m\n\u001b[0m\u001b[1;32m     27\u001b[0m         \u001b[0mself\u001b[0m\u001b[0;34m.\u001b[0m\u001b[0mupdate_trainable\u001b[0m\u001b[0;34m(\u001b[0m\u001b[0;34m)\u001b[0m\u001b[0;34m\u001b[0m\u001b[0;34m\u001b[0m\u001b[0m\n\u001b[1;32m     28\u001b[0m \u001b[0;34m\u001b[0m\u001b[0m\n",
      "\u001b[0;32m~/projects/diff_graph/dg/core.py\u001b[0m in \u001b[0;36mbackward_pass\u001b[0;34m(node, grad)\u001b[0m\n\u001b[1;32m     68\u001b[0m         \u001b[0mnode\u001b[0m\u001b[0;34m.\u001b[0m\u001b[0mset_grad\u001b[0m\u001b[0;34m(\u001b[0m\u001b[0mgrad\u001b[0m\u001b[0;34m)\u001b[0m\u001b[0;34m\u001b[0m\u001b[0;34m\u001b[0m\u001b[0m\n\u001b[1;32m     69\u001b[0m     \u001b[0;32mfor\u001b[0m \u001b[0mn\u001b[0m \u001b[0;32min\u001b[0m \u001b[0mbackward_iter\u001b[0m\u001b[0;34m(\u001b[0m\u001b[0mnode\u001b[0m\u001b[0;34m)\u001b[0m\u001b[0;34m:\u001b[0m\u001b[0;34m\u001b[0m\u001b[0;34m\u001b[0m\u001b[0m\n\u001b[0;32m---> 70\u001b[0;31m         \u001b[0mn\u001b[0m\u001b[0;34m.\u001b[0m\u001b[0mbackward\u001b[0m\u001b[0;34m(\u001b[0m\u001b[0;34m)\u001b[0m\u001b[0;34m\u001b[0m\u001b[0;34m\u001b[0m\u001b[0m\n\u001b[0m\u001b[1;32m     71\u001b[0m \u001b[0;34m\u001b[0m\u001b[0m\n\u001b[1;32m     72\u001b[0m \u001b[0;34m\u001b[0m\u001b[0m\n",
      "\u001b[0;32m~/projects/diff_graph/dg/op.py\u001b[0m in \u001b[0;36mbackward\u001b[0;34m(self)\u001b[0m\n\u001b[1;32m    304\u001b[0m \u001b[0;34m\u001b[0m\u001b[0m\n\u001b[1;32m    305\u001b[0m     \u001b[0;32mdef\u001b[0m \u001b[0mbackward\u001b[0m\u001b[0;34m(\u001b[0m\u001b[0mself\u001b[0m\u001b[0;34m)\u001b[0m\u001b[0;34m:\u001b[0m\u001b[0;34m\u001b[0m\u001b[0;34m\u001b[0m\u001b[0m\n\u001b[0;32m--> 306\u001b[0;31m         \u001b[0mself\u001b[0m\u001b[0;34m.\u001b[0m\u001b[0mop\u001b[0m\u001b[0;34m.\u001b[0m\u001b[0mbackward\u001b[0m\u001b[0;34m(\u001b[0m\u001b[0;34m)\u001b[0m\u001b[0;34m\u001b[0m\u001b[0;34m\u001b[0m\u001b[0m\n\u001b[0m\u001b[1;32m    307\u001b[0m \u001b[0;34m\u001b[0m\u001b[0m\n\u001b[1;32m    308\u001b[0m     \u001b[0;32mdef\u001b[0m \u001b[0mtensor\u001b[0m\u001b[0;34m(\u001b[0m\u001b[0mself\u001b[0m\u001b[0;34m)\u001b[0m\u001b[0;34m:\u001b[0m\u001b[0;34m\u001b[0m\u001b[0;34m\u001b[0m\u001b[0m\n",
      "\u001b[0;32m~/projects/diff_graph/dg/cnn.py\u001b[0m in \u001b[0;36mbackward\u001b[0;34m(self)\u001b[0m\n\u001b[1;32m    244\u001b[0m     \u001b[0;32mdef\u001b[0m \u001b[0mbackward\u001b[0m\u001b[0;34m(\u001b[0m\u001b[0mself\u001b[0m\u001b[0;34m)\u001b[0m\u001b[0;34m:\u001b[0m\u001b[0;34m\u001b[0m\u001b[0;34m\u001b[0m\u001b[0m\n\u001b[1;32m    245\u001b[0m         \u001b[0;32mfor\u001b[0m \u001b[0mi\u001b[0m \u001b[0;32min\u001b[0m \u001b[0mrange\u001b[0m\u001b[0;34m(\u001b[0m\u001b[0mself\u001b[0m\u001b[0;34m.\u001b[0m\u001b[0mbatch_size\u001b[0m\u001b[0;34m)\u001b[0m\u001b[0;34m:\u001b[0m\u001b[0;34m\u001b[0m\u001b[0;34m\u001b[0m\u001b[0m\n\u001b[0;32m--> 246\u001b[0;31m             \u001b[0mself\u001b[0m\u001b[0;34m.\u001b[0m\u001b[0mbackward_one_image\u001b[0m\u001b[0;34m(\u001b[0m\u001b[0mi\u001b[0m\u001b[0;34m)\u001b[0m\u001b[0;34m\u001b[0m\u001b[0;34m\u001b[0m\u001b[0m\n\u001b[0m\u001b[1;32m    247\u001b[0m \u001b[0;34m\u001b[0m\u001b[0m\n\u001b[1;32m    248\u001b[0m     \u001b[0;31m# backward pass over one image in the batch.\u001b[0m\u001b[0;34m\u001b[0m\u001b[0;34m\u001b[0m\u001b[0;34m\u001b[0m\u001b[0m\n",
      "\u001b[0;32m~/projects/diff_graph/dg/cnn.py\u001b[0m in \u001b[0;36mbackward_one_image\u001b[0;34m(self, i)\u001b[0m\n\u001b[1;32m    295\u001b[0m \u001b[0;34m\u001b[0m\u001b[0m\n\u001b[1;32m    296\u001b[0m             \u001b[0mcropped_area\u001b[0m \u001b[0;34m=\u001b[0m \u001b[0mcrop_image\u001b[0m\u001b[0;34m(\u001b[0m\u001b[0mcur_img_data_padded\u001b[0m\u001b[0;34m,\u001b[0m \u001b[0mcorners\u001b[0m\u001b[0;34m[\u001b[0m\u001b[0;36m0\u001b[0m\u001b[0;34m]\u001b[0m\u001b[0;34m,\u001b[0m \u001b[0mcorners\u001b[0m\u001b[0;34m[\u001b[0m\u001b[0;36m1\u001b[0m\u001b[0;34m]\u001b[0m\u001b[0;34m)\u001b[0m\u001b[0;34m\u001b[0m\u001b[0;34m\u001b[0m\u001b[0m\n\u001b[0;32m--> 297\u001b[0;31m             \u001b[0mgrad_wrt_filt\u001b[0m \u001b[0;34m=\u001b[0m \u001b[0midxed_out_grad\u001b[0m \u001b[0;34m*\u001b[0m \u001b[0mcropped_area\u001b[0m\u001b[0;34m\u001b[0m\u001b[0;34m\u001b[0m\u001b[0m\n\u001b[0m\u001b[1;32m    298\u001b[0m \u001b[0;34m\u001b[0m\u001b[0m\n\u001b[1;32m    299\u001b[0m             \u001b[0;31m# accumulate conv_filter gradients\u001b[0m\u001b[0;34m\u001b[0m\u001b[0;34m\u001b[0m\u001b[0;34m\u001b[0m\u001b[0m\n",
      "\u001b[0;31mKeyboardInterrupt\u001b[0m: "
     ]
    }
   ],
   "source": [
    "# finally, train the built CNN\n",
    "lr = 0.0001\n",
    "sgd_optim = dg.optim.SGD(loss, trainables, lr)\n",
    "epoch = 5\n",
    "for e in range(epoch):\n",
    "    train_iter = iter(trainloader)\n",
    "    for i, train_data in enumerate(train_iter):\n",
    "        x_train = train_data[0].numpy().reshape([batch_size, 28, 28, 1])\n",
    "        y_train = label2onehot(train_data[1]).reshape([batch_size, num_labels, 1])\n",
    "        sgd_optim.step({x_img:x_train, y_label:y_train})\n",
    "        if i % 100 == 0:\n",
    "            print('Loss after training {} batches with batch size {}: {}'.format(i + 1, batch_size, loss.data()))\n"
   ]
  },
  {
   "cell_type": "code",
   "execution_count": null,
   "metadata": {},
   "outputs": [],
   "source": []
  },
  {
   "cell_type": "code",
   "execution_count": null,
   "metadata": {},
   "outputs": [],
   "source": []
  },
  {
   "cell_type": "code",
   "execution_count": null,
   "metadata": {},
   "outputs": [],
   "source": []
  },
  {
   "cell_type": "code",
   "execution_count": null,
   "metadata": {},
   "outputs": [],
   "source": []
  },
  {
   "cell_type": "code",
   "execution_count": null,
   "metadata": {},
   "outputs": [],
   "source": []
  },
  {
   "cell_type": "code",
   "execution_count": null,
   "metadata": {},
   "outputs": [],
   "source": []
  },
  {
   "cell_type": "code",
   "execution_count": null,
   "metadata": {},
   "outputs": [],
   "source": []
  },
  {
   "cell_type": "code",
   "execution_count": null,
   "metadata": {},
   "outputs": [],
   "source": []
  },
  {
   "cell_type": "code",
   "execution_count": null,
   "metadata": {},
   "outputs": [],
   "source": []
  },
  {
   "cell_type": "code",
   "execution_count": null,
   "metadata": {},
   "outputs": [],
   "source": []
  },
  {
   "cell_type": "code",
   "execution_count": null,
   "metadata": {},
   "outputs": [],
   "source": []
  },
  {
   "cell_type": "code",
   "execution_count": null,
   "metadata": {},
   "outputs": [],
   "source": []
  },
  {
   "cell_type": "code",
   "execution_count": null,
   "metadata": {},
   "outputs": [],
   "source": []
  },
  {
   "cell_type": "code",
   "execution_count": null,
   "metadata": {},
   "outputs": [],
   "source": []
  },
  {
   "cell_type": "code",
   "execution_count": null,
   "metadata": {},
   "outputs": [],
   "source": []
  },
  {
   "cell_type": "code",
   "execution_count": null,
   "metadata": {},
   "outputs": [],
   "source": []
  }
 ],
 "metadata": {
  "kernelspec": {
   "display_name": "Python 3",
   "language": "python",
   "name": "python3"
  },
  "language_info": {
   "codemirror_mode": {
    "name": "ipython",
    "version": 3
   },
   "file_extension": ".py",
   "mimetype": "text/x-python",
   "name": "python",
   "nbconvert_exporter": "python",
   "pygments_lexer": "ipython3",
   "version": "3.7.3"
  }
 },
 "nbformat": 4,
 "nbformat_minor": 2
}
