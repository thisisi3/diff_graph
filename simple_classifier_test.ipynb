{
 "cells": [
  {
   "cell_type": "code",
   "execution_count": 61,
   "metadata": {},
   "outputs": [],
   "source": [
    "import numpy as np\n",
    "import matplotlib.pyplot as plt\n",
    "import dg"
   ]
  },
  {
   "cell_type": "code",
   "execution_count": 83,
   "metadata": {},
   "outputs": [],
   "source": [
    "dist = 1.4\n",
    "n_pts = 50\n",
    "x1 = np.random.randn(n_pts) + dist\n",
    "y1 = np.random.randn(n_pts) + dist\n",
    "x2 = np.random.randn(n_pts) - dist\n",
    "y2 = np.random.randn(n_pts) - dist"
   ]
  },
  {
   "cell_type": "code",
   "execution_count": 84,
   "metadata": {},
   "outputs": [
    {
     "data": {
      "text/plain": [
       "<matplotlib.collections.PathCollection at 0x7f0efac4bbe0>"
      ]
     },
     "execution_count": 84,
     "metadata": {},
     "output_type": "execute_result"
    },
    {
     "data": {
      "image/png": "[encoded data removed]",
      "text/plain": [
       "<Figure size 432x288 with 1 Axes>"
      ]
     },
     "metadata": {
      "needs_background": "light"
     },
     "output_type": "display_data"
    }
   ],
   "source": [
    "x_ = list(x1) + list(x2)\n",
    "y_ = list(y1) + list(y2)\n",
    "clr = ['green'] * n_pts + ['red'] * n_pts\n",
    "plt.scatter(x_, y_, color = clr)"
   ]
  },
  {
   "cell_type": "code",
   "execution_count": 85,
   "metadata": {},
   "outputs": [
    {
     "data": {
      "text/plain": [
       "(100, 2, 1)"
      ]
     },
     "execution_count": 85,
     "metadata": {},
     "output_type": "execute_result"
    }
   ],
   "source": [
    "x_data.shape"
   ]
  },
  {
   "cell_type": "code",
   "execution_count": 86,
   "metadata": {
    "scrolled": true
   },
   "outputs": [
    {
     "data": {
      "text/plain": [
       "(100, 2, 1)"
      ]
     },
     "execution_count": 86,
     "metadata": {},
     "output_type": "execute_result"
    }
   ],
   "source": [
    "x.data().shape"
   ]
  },
  {
   "cell_type": "code",
   "execution_count": 87,
   "metadata": {},
   "outputs": [],
   "source": [
    "x_data = np.array([x_, y_]).transpose().reshape([100,2,1])\n",
    "y_data = [[1,0]] * n_pts + [[0,1]] * n_pts\n",
    "y_data = np.array(y_data).reshape([100,2,1])\n",
    "batch_size = n_pts * 2"
   ]
  },
  {
   "cell_type": "code",
   "execution_count": 88,
   "metadata": {},
   "outputs": [],
   "source": [
    "w1_stdev = 0.1\n",
    "w2_stdev = 0.01\n",
    "\n",
    "x = dg.identity(np.random.randn(batch_size, 2, 1), name = 'x')\n",
    "w = dg.identity(np.random.randn(2, 2) * w1_stdev, name = 'w')\n",
    "b = dg.identity(np.random.randn(2, 1) * 1, name = 'b')\n",
    "y = dg.mat_add(dg.mat_mul(w, x, 'mat_mul'), b, name = 'y')\n",
    "y_label = dg.identity(np.random.randn(batch_size, 2, 1), name = 'ylabel')\n",
    "\n",
    "loss = dg.softmax_cross(y, y_label, name = 'softmax_loss')\n"
   ]
  },
  {
   "cell_type": "code",
   "execution_count": 89,
   "metadata": {},
   "outputs": [
    {
     "data": {
      "text/plain": [
       "(100, 2, 1)"
      ]
     },
     "execution_count": 89,
     "metadata": {},
     "output_type": "execute_result"
    }
   ],
   "source": [
    "x_data.shape"
   ]
  },
  {
   "cell_type": "code",
   "execution_count": 106,
   "metadata": {
    "scrolled": false
   },
   "outputs": [
    {
     "name": "stdout",
     "output_type": "stream",
     "text": [
      "Loss after training 1 times: [0.06493131]\n",
      "Loss after training 101 times: [0.06473996]\n",
      "Loss after training 201 times: [0.06455113]\n",
      "Loss after training 301 times: [0.06436475]\n",
      "Loss after training 401 times: [0.0641808]\n",
      "Loss after training 501 times: [0.0639992]\n",
      "Loss after training 601 times: [0.06381992]\n",
      "Loss after training 701 times: [0.06364291]\n",
      "Loss after training 801 times: [0.06346813]\n",
      "Loss after training 901 times: [0.06329554]\n",
      "Loss after training 1001 times: [0.06312508]\n",
      "Loss after training 1101 times: [0.06295672]\n",
      "Loss after training 1201 times: [0.06279043]\n",
      "Loss after training 1301 times: [0.06262615]\n",
      "Loss after training 1401 times: [0.06246386]\n",
      "Loss after training 1501 times: [0.06230351]\n",
      "Loss after training 1601 times: [0.06214508]\n",
      "Loss after training 1701 times: [0.06198852]\n",
      "Loss after training 1801 times: [0.06183379]\n",
      "Loss after training 1901 times: [0.06168088]\n",
      "Loss after training 2001 times: [0.06152973]\n",
      "Loss after training 2101 times: [0.06138033]\n",
      "Loss after training 2201 times: [0.06123264]\n",
      "Loss after training 2301 times: [0.06108663]\n",
      "Loss after training 2401 times: [0.06094227]\n",
      "Loss after training 2501 times: [0.06079953]\n",
      "Loss after training 2601 times: [0.06065839]\n",
      "Loss after training 2701 times: [0.0605188]\n",
      "Loss after training 2801 times: [0.06038076]\n",
      "Loss after training 2901 times: [0.06024423]\n",
      "Loss after training 3001 times: [0.06010918]\n",
      "Loss after training 3101 times: [0.0599756]\n",
      "Loss after training 3201 times: [0.05984345]\n",
      "Loss after training 3301 times: [0.05971271]\n",
      "Loss after training 3401 times: [0.05958337]\n",
      "Loss after training 3501 times: [0.05945538]\n",
      "Loss after training 3601 times: [0.05932874]\n",
      "Loss after training 3701 times: [0.05920343]\n",
      "Loss after training 3801 times: [0.05907941]\n",
      "Loss after training 3901 times: [0.05895666]\n",
      "Loss after training 4001 times: [0.05883518]\n",
      "Loss after training 4101 times: [0.05871494]\n",
      "Loss after training 4201 times: [0.05859591]\n",
      "Loss after training 4301 times: [0.05847808]\n",
      "Loss after training 4401 times: [0.05836143]\n",
      "Loss after training 4501 times: [0.05824594]\n",
      "Loss after training 4601 times: [0.05813159]\n",
      "Loss after training 4701 times: [0.05801837]\n",
      "Loss after training 4801 times: [0.05790626]\n",
      "Loss after training 4901 times: [0.05779524]\n",
      "Loss after training 5001 times: [0.0576853]\n",
      "Loss after training 5101 times: [0.05757641]\n",
      "Loss after training 5201 times: [0.05746856]\n",
      "Loss after training 5301 times: [0.05736174]\n",
      "Loss after training 5401 times: [0.05725593]\n",
      "Loss after training 5501 times: [0.05715112]\n",
      "Loss after training 5601 times: [0.05704729]\n",
      "Loss after training 5701 times: [0.05694442]\n",
      "Loss after training 5801 times: [0.05684251]\n",
      "Loss after training 5901 times: [0.05674154]\n",
      "Loss after training 6001 times: [0.05664149]\n",
      "Loss after training 6101 times: [0.05654236]\n",
      "Loss after training 6201 times: [0.05644412]\n",
      "Loss after training 6301 times: [0.05634677]\n",
      "Loss after training 6401 times: [0.05625029]\n",
      "Loss after training 6501 times: [0.05615468]\n",
      "Loss after training 6601 times: [0.05605991]\n",
      "Loss after training 6701 times: [0.05596598]\n",
      "Loss after training 6801 times: [0.05587288]\n",
      "Loss after training 6901 times: [0.05578059]\n",
      "Loss after training 7001 times: [0.0556891]\n",
      "Loss after training 7101 times: [0.05559841]\n",
      "Loss after training 7201 times: [0.05550849]\n",
      "Loss after training 7301 times: [0.05541935]\n",
      "Loss after training 7401 times: [0.05533097]\n",
      "Loss after training 7501 times: [0.05524334]\n",
      "Loss after training 7601 times: [0.05515644]\n",
      "Loss after training 7701 times: [0.05507028]\n",
      "Loss after training 7801 times: [0.05498484]\n",
      "Loss after training 7901 times: [0.05490011]\n",
      "Loss after training 8001 times: [0.05481607]\n",
      "Loss after training 8101 times: [0.05473274]\n",
      "Loss after training 8201 times: [0.05465008]\n",
      "Loss after training 8301 times: [0.0545681]\n",
      "Loss after training 8401 times: [0.05448679]\n",
      "Loss after training 8501 times: [0.05440613]\n",
      "Loss after training 8601 times: [0.05432612]\n",
      "Loss after training 8701 times: [0.05424675]\n",
      "Loss after training 8801 times: [0.05416802]\n",
      "Loss after training 8901 times: [0.0540899]\n",
      "Loss after training 9001 times: [0.05401241]\n",
      "Loss after training 9101 times: [0.05393552]\n",
      "Loss after training 9201 times: [0.05385924]\n",
      "Loss after training 9301 times: [0.05378355]\n",
      "Loss after training 9401 times: [0.05370844]\n",
      "Loss after training 9501 times: [0.05363392]\n",
      "Loss after training 9601 times: [0.05355996]\n",
      "Loss after training 9701 times: [0.05348658]\n",
      "Loss after training 9801 times: [0.05341375]\n",
      "Loss after training 9901 times: [0.05334147]\n"
     ]
    }
   ],
   "source": [
    "lr = 0.00001\n",
    "sgd_optim = dg.optim.SGD(loss, [w, b], lr)\n",
    "for i in range(10000):\n",
    "    sgd_optim.step({x:x_data, y_label:y_data})\n",
    "    if i % 100 == 0:\n",
    "        print('Loss after training {} times: {}'.format(i+1, loss.data()))"
   ]
  },
  {
   "cell_type": "code",
   "execution_count": 107,
   "metadata": {},
   "outputs": [],
   "source": [
    "tmp = dg.utils.batch_softmax(y.data())"
   ]
  },
  {
   "cell_type": "code",
   "execution_count": 109,
   "metadata": {},
   "outputs": [
    {
     "name": "stdout",
     "output_type": "stream",
     "text": [
      "0.03\n"
     ]
    }
   ],
   "source": [
    "in_acc = 0\n",
    "in_acc_res = []\n",
    "for i, ttt in enumerate(tmp):\n",
    "    if np.argmax(ttt) != np.argmax(y_label.data()[i]):\n",
    "        in_acc += 1\n",
    "        in_acc_res.append(i)\n",
    "print(in_acc / n_pts / 2)"
   ]
  },
  {
   "cell_type": "code",
   "execution_count": 115,
   "metadata": {},
   "outputs": [
    {
     "name": "stdout",
     "output_type": "stream",
     "text": [
      "[[ 0.7493655 ]\n",
      " [-1.22773782]] [[1]\n",
      " [0]]\n",
      "[[-0.45109579]\n",
      " [ 0.346887  ]] [[0]\n",
      " [1]]\n",
      "[[-0.06746628]\n",
      " [ 0.10728174]] [[0]\n",
      " [1]]\n"
     ]
    }
   ],
   "source": [
    "for i in in_acc_res:\n",
    "    print(x_data[i], y_label.data()[i])"
   ]
  },
  {
   "cell_type": "code",
   "execution_count": 112,
   "metadata": {},
   "outputs": [
    {
     "data": {
      "text/plain": [
       "array([[[9.99970947e-01],\n",
       "        [2.90530110e-05]],\n",
       "\n",
       "       [[9.99998740e-01],\n",
       "        [1.26001206e-06]],\n",
       "\n",
       "       [[9.99844422e-01],\n",
       "        [1.55578107e-04]],\n",
       "\n",
       "       [[9.98817558e-01],\n",
       "        [1.18244173e-03]],\n",
       "\n",
       "       [[9.99998585e-01],\n",
       "        [1.41468038e-06]],\n",
       "\n",
       "       [[9.99999871e-01],\n",
       "        [1.29201552e-07]],\n",
       "\n",
       "       [[9.02842261e-01],\n",
       "        [9.71577385e-02]],\n",
       "\n",
       "       [[9.97195837e-01],\n",
       "        [2.80416271e-03]],\n",
       "\n",
       "       [[9.98096240e-01],\n",
       "        [1.90375997e-03]],\n",
       "\n",
       "       [[9.99875214e-01],\n",
       "        [1.24785713e-04]],\n",
       "\n",
       "       [[9.99901273e-01],\n",
       "        [9.87266871e-05]],\n",
       "\n",
       "       [[9.99203472e-01],\n",
       "        [7.96528299e-04]],\n",
       "\n",
       "       [[9.99095444e-01],\n",
       "        [9.04555989e-04]],\n",
       "\n",
       "       [[9.97563889e-01],\n",
       "        [2.43611132e-03]],\n",
       "\n",
       "       [[9.87747383e-01],\n",
       "        [1.22526165e-02]],\n",
       "\n",
       "       [[9.98864327e-01],\n",
       "        [1.13567317e-03]],\n",
       "\n",
       "       [[9.99988262e-01],\n",
       "        [1.17377456e-05]],\n",
       "\n",
       "       [[9.81781253e-01],\n",
       "        [1.82187471e-02]],\n",
       "\n",
       "       [[9.99925506e-01],\n",
       "        [7.44942337e-05]],\n",
       "\n",
       "       [[9.81830576e-01],\n",
       "        [1.81694245e-02]],\n",
       "\n",
       "       [[6.23707434e-01],\n",
       "        [3.76292566e-01]],\n",
       "\n",
       "       [[9.99425610e-01],\n",
       "        [5.74389994e-04]],\n",
       "\n",
       "       [[9.97963406e-01],\n",
       "        [2.03659447e-03]],\n",
       "\n",
       "       [[9.96197970e-01],\n",
       "        [3.80202961e-03]],\n",
       "\n",
       "       [[9.99581051e-01],\n",
       "        [4.18949220e-04]],\n",
       "\n",
       "       [[9.99987310e-01],\n",
       "        [1.26902141e-05]],\n",
       "\n",
       "       [[9.99877804e-01],\n",
       "        [1.22195800e-04]],\n",
       "\n",
       "       [[9.97642789e-01],\n",
       "        [2.35721128e-03]],\n",
       "\n",
       "       [[9.78288905e-01],\n",
       "        [2.17110950e-02]],\n",
       "\n",
       "       [[9.09910599e-01],\n",
       "        [9.00894013e-02]],\n",
       "\n",
       "       [[9.99892990e-01],\n",
       "        [1.07009773e-04]],\n",
       "\n",
       "       [[8.73629882e-01],\n",
       "        [1.26370118e-01]],\n",
       "\n",
       "       [[9.99920221e-01],\n",
       "        [7.97793162e-05]],\n",
       "\n",
       "       [[9.96096133e-01],\n",
       "        [3.90386692e-03]],\n",
       "\n",
       "       [[9.96259566e-01],\n",
       "        [3.74043421e-03]],\n",
       "\n",
       "       [[8.79796396e-01],\n",
       "        [1.20203604e-01]],\n",
       "\n",
       "       [[9.99059236e-01],\n",
       "        [9.40764182e-04]],\n",
       "\n",
       "       [[9.97421883e-01],\n",
       "        [2.57811699e-03]],\n",
       "\n",
       "       [[9.81261472e-01],\n",
       "        [1.87385278e-02]],\n",
       "\n",
       "       [[9.99988424e-01],\n",
       "        [1.15763639e-05]],\n",
       "\n",
       "       [[9.99740764e-01],\n",
       "        [2.59235536e-04]],\n",
       "\n",
       "       [[9.99945654e-01],\n",
       "        [5.43462047e-05]],\n",
       "\n",
       "       [[9.99996963e-01],\n",
       "        [3.03671447e-06]],\n",
       "\n",
       "       [[9.95634766e-01],\n",
       "        [4.36523416e-03]],\n",
       "\n",
       "       [[9.97507453e-01],\n",
       "        [2.49254687e-03]],\n",
       "\n",
       "       [[9.99978012e-01],\n",
       "        [2.19880863e-05]],\n",
       "\n",
       "       [[4.80450743e-01],\n",
       "        [5.19549257e-01]],\n",
       "\n",
       "       [[9.89863394e-01],\n",
       "        [1.01366061e-02]],\n",
       "\n",
       "       [[9.71488149e-01],\n",
       "        [2.85118507e-02]],\n",
       "\n",
       "       [[9.99872655e-01],\n",
       "        [1.27344865e-04]],\n",
       "\n",
       "       [[5.19305088e-02],\n",
       "        [9.48069491e-01]],\n",
       "\n",
       "       [[1.38884518e-03],\n",
       "        [9.98611155e-01]],\n",
       "\n",
       "       [[2.38904479e-03],\n",
       "        [9.97610955e-01]],\n",
       "\n",
       "       [[8.00040929e-03],\n",
       "        [9.91999591e-01]],\n",
       "\n",
       "       [[1.88843017e-05],\n",
       "        [9.99981116e-01]],\n",
       "\n",
       "       [[3.04824011e-04],\n",
       "        [9.99695176e-01]],\n",
       "\n",
       "       [[7.16554844e-03],\n",
       "        [9.92834452e-01]],\n",
       "\n",
       "       [[6.80749394e-03],\n",
       "        [9.93192506e-01]],\n",
       "\n",
       "       [[1.40161632e-02],\n",
       "        [9.85983837e-01]],\n",
       "\n",
       "       [[3.05598781e-04],\n",
       "        [9.99694401e-01]],\n",
       "\n",
       "       [[1.21770829e-01],\n",
       "        [8.78229171e-01]],\n",
       "\n",
       "       [[3.37264576e-03],\n",
       "        [9.96627354e-01]],\n",
       "\n",
       "       [[4.94742975e-04],\n",
       "        [9.99505257e-01]],\n",
       "\n",
       "       [[4.56790428e-05],\n",
       "        [9.99954321e-01]],\n",
       "\n",
       "       [[5.13825455e-03],\n",
       "        [9.94861745e-01]],\n",
       "\n",
       "       [[4.07217237e-02],\n",
       "        [9.59278276e-01]],\n",
       "\n",
       "       [[3.41994085e-04],\n",
       "        [9.99658006e-01]],\n",
       "\n",
       "       [[3.52890001e-04],\n",
       "        [9.99647110e-01]],\n",
       "\n",
       "       [[2.73294544e-04],\n",
       "        [9.99726705e-01]],\n",
       "\n",
       "       [[8.45810706e-04],\n",
       "        [9.99154189e-01]],\n",
       "\n",
       "       [[1.54139226e-05],\n",
       "        [9.99984586e-01]],\n",
       "\n",
       "       [[5.77750282e-05],\n",
       "        [9.99942225e-01]],\n",
       "\n",
       "       [[1.05573879e-02],\n",
       "        [9.89442612e-01]],\n",
       "\n",
       "       [[5.92636911e-01],\n",
       "        [4.07363089e-01]],\n",
       "\n",
       "       [[9.53207423e-04],\n",
       "        [9.99046793e-01]],\n",
       "\n",
       "       [[5.02814418e-02],\n",
       "        [9.49718558e-01]],\n",
       "\n",
       "       [[2.08051012e-03],\n",
       "        [9.97919490e-01]],\n",
       "\n",
       "       [[4.37774067e-04],\n",
       "        [9.99562226e-01]],\n",
       "\n",
       "       [[9.30836786e-05],\n",
       "        [9.99906916e-01]],\n",
       "\n",
       "       [[1.08600930e-02],\n",
       "        [9.89139907e-01]],\n",
       "\n",
       "       [[1.15282526e-03],\n",
       "        [9.98847175e-01]],\n",
       "\n",
       "       [[3.04604107e-05],\n",
       "        [9.99969540e-01]],\n",
       "\n",
       "       [[6.91026658e-01],\n",
       "        [3.08973342e-01]],\n",
       "\n",
       "       [[8.07470828e-05],\n",
       "        [9.99919253e-01]],\n",
       "\n",
       "       [[3.24896177e-02],\n",
       "        [9.67510382e-01]],\n",
       "\n",
       "       [[3.35197994e-02],\n",
       "        [9.66480201e-01]],\n",
       "\n",
       "       [[2.37767591e-01],\n",
       "        [7.62232409e-01]],\n",
       "\n",
       "       [[1.43168374e-03],\n",
       "        [9.98568316e-01]],\n",
       "\n",
       "       [[1.01435103e-02],\n",
       "        [9.89856490e-01]],\n",
       "\n",
       "       [[2.08664660e-03],\n",
       "        [9.97913353e-01]],\n",
       "\n",
       "       [[4.21902341e-02],\n",
       "        [9.57809766e-01]],\n",
       "\n",
       "       [[2.44679285e-01],\n",
       "        [7.55320715e-01]],\n",
       "\n",
       "       [[2.90645454e-04],\n",
       "        [9.99709355e-01]],\n",
       "\n",
       "       [[5.93767097e-04],\n",
       "        [9.99406233e-01]],\n",
       "\n",
       "       [[1.17380919e-01],\n",
       "        [8.82619081e-01]],\n",
       "\n",
       "       [[2.24043879e-01],\n",
       "        [7.75956121e-01]],\n",
       "\n",
       "       [[4.15674182e-04],\n",
       "        [9.99584326e-01]],\n",
       "\n",
       "       [[9.91753624e-04],\n",
       "        [9.99008246e-01]],\n",
       "\n",
       "       [[5.77520043e-05],\n",
       "        [9.99942248e-01]],\n",
       "\n",
       "       [[9.62969955e-03],\n",
       "        [9.90370300e-01]]])"
      ]
     },
     "execution_count": 112,
     "metadata": {},
     "output_type": "execute_result"
    }
   ],
   "source": [
    "tmp"
   ]
  },
  {
   "cell_type": "code",
   "execution_count": null,
   "metadata": {},
   "outputs": [],
   "source": []
  }
 ],
 "metadata": {
  "kernelspec": {
   "display_name": "Python 3",
   "language": "python",
   "name": "python3"
  },
  "language_info": {
   "codemirror_mode": {
    "name": "ipython",
    "version": 3
   },
   "file_extension": ".py",
   "mimetype": "text/x-python",
   "name": "python",
   "nbconvert_exporter": "python",
   "pygments_lexer": "ipython3",
   "version": "3.7.3"
  }
 },
 "nbformat": 4,
 "nbformat_minor": 2
}
